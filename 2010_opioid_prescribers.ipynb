{
 "cells": [
  {
   "cell_type": "markdown",
   "metadata": {},
   "source": [
    "## Scrape county prescriber data from 2010\n"
   ]
  },
  {
   "cell_type": "code",
   "execution_count": 1,
   "metadata": {},
   "outputs": [],
   "source": [
    "import pandas as pd"
   ]
  },
  {
   "cell_type": "code",
   "execution_count": 159,
   "metadata": {},
   "outputs": [
    {
     "data": {
      "text/html": [
       "<div>\n",
       "<style scoped>\n",
       "    .dataframe tbody tr th:only-of-type {\n",
       "        vertical-align: middle;\n",
       "    }\n",
       "\n",
       "    .dataframe tbody tr th {\n",
       "        vertical-align: top;\n",
       "    }\n",
       "\n",
       "    .dataframe thead th {\n",
       "        text-align: right;\n",
       "    }\n",
       "</style>\n",
       "<table border=\"1\" class=\"dataframe\">\n",
       "  <thead>\n",
       "    <tr style=\"text-align: right;\">\n",
       "      <th></th>\n",
       "      <th>County</th>\n",
       "      <th>State</th>\n",
       "      <th>FIPS County Code</th>\n",
       "      <th>2010 Prescribing Rate</th>\n",
       "    </tr>\n",
       "  </thead>\n",
       "  <tbody>\n",
       "    <tr>\n",
       "      <th>0</th>\n",
       "      <td>Aleutians East, AK</td>\n",
       "      <td>AK</td>\n",
       "      <td>2013</td>\n",
       "      <td>–</td>\n",
       "    </tr>\n",
       "    <tr>\n",
       "      <th>1</th>\n",
       "      <td>Aleutians West, AK</td>\n",
       "      <td>AK</td>\n",
       "      <td>2016</td>\n",
       "      <td>–</td>\n",
       "    </tr>\n",
       "  </tbody>\n",
       "</table>\n",
       "</div>"
      ],
      "text/plain": [
       "               County State  FIPS County Code 2010 Prescribing Rate\n",
       "0  Aleutians East, AK    AK              2013                     –\n",
       "1  Aleutians West, AK    AK              2016                     –"
      ]
     },
     "execution_count": 159,
     "metadata": {},
     "output_type": "execute_result"
    }
   ],
   "source": [
    "url = \"https://www.cdc.gov/drugoverdose/maps/rxcounty2010.html\"\n",
    "df= pd.read_html(url)\n",
    "df_2010= df[0]\n",
    "df_2010[:2]"
   ]
  },
  {
   "cell_type": "code",
   "execution_count": 160,
   "metadata": {},
   "outputs": [
    {
     "data": {
      "text/plain": [
       "County                   object\n",
       "State                    object\n",
       "FIPS County Code          int64\n",
       "2010 Prescribing Rate    object\n",
       "dtype: object"
      ]
     },
     "execution_count": 160,
     "metadata": {},
     "output_type": "execute_result"
    }
   ],
   "source": [
    "df_2010.dtypes"
   ]
  },
  {
   "cell_type": "code",
   "execution_count": 172,
   "metadata": {},
   "outputs": [],
   "source": [
    "df_2010_cols=df_2010.columns.tolist()\n",
    "df_2010_cols\n",
    "#['County', 'State', 'FIPS County Code', '2010 Prescribing Rate']\n",
    "cols = ['FIPS County Code','County', 'State', '2010 Prescribing Rate']"
   ]
  },
  {
   "cell_type": "code",
   "execution_count": 173,
   "metadata": {},
   "outputs": [
    {
     "data": {
      "text/html": [
       "<div>\n",
       "<style scoped>\n",
       "    .dataframe tbody tr th:only-of-type {\n",
       "        vertical-align: middle;\n",
       "    }\n",
       "\n",
       "    .dataframe tbody tr th {\n",
       "        vertical-align: top;\n",
       "    }\n",
       "\n",
       "    .dataframe thead th {\n",
       "        text-align: right;\n",
       "    }\n",
       "</style>\n",
       "<table border=\"1\" class=\"dataframe\">\n",
       "  <thead>\n",
       "    <tr style=\"text-align: right;\">\n",
       "      <th></th>\n",
       "      <th>FIPS County Code</th>\n",
       "      <th>County</th>\n",
       "      <th>State</th>\n",
       "      <th>2010 Prescribing Rate</th>\n",
       "    </tr>\n",
       "  </thead>\n",
       "  <tbody>\n",
       "    <tr>\n",
       "      <th>0</th>\n",
       "      <td>2013</td>\n",
       "      <td>Aleutians East, AK</td>\n",
       "      <td>AK</td>\n",
       "      <td>–</td>\n",
       "    </tr>\n",
       "    <tr>\n",
       "      <th>1</th>\n",
       "      <td>2016</td>\n",
       "      <td>Aleutians West, AK</td>\n",
       "      <td>AK</td>\n",
       "      <td>–</td>\n",
       "    </tr>\n",
       "  </tbody>\n",
       "</table>\n",
       "</div>"
      ],
      "text/plain": [
       "   FIPS County Code              County State 2010 Prescribing Rate\n",
       "0              2013  Aleutians East, AK    AK                     –\n",
       "1              2016  Aleutians West, AK    AK                     –"
      ]
     },
     "execution_count": 173,
     "metadata": {},
     "output_type": "execute_result"
    }
   ],
   "source": [
    "df_2010_reord=df_2010[cols]\n",
    "df_2010_reord[:2]"
   ]
  },
  {
   "cell_type": "code",
   "execution_count": 174,
   "metadata": {},
   "outputs": [
    {
     "data": {
      "text/plain": [
       "FIPS County Code          int64\n",
       "County                   object\n",
       "State                    object\n",
       "2010 Prescribing Rate    object\n",
       "dtype: object"
      ]
     },
     "execution_count": 174,
     "metadata": {},
     "output_type": "execute_result"
    }
   ],
   "source": [
    "df_2010_reord.shape\n",
    "#(3143, 4)\n",
    "df_2010_reord.dtypes\n",
    "\n",
    "# FIPS County Code          int64\n",
    "# County                   object\n",
    "# State                    object\n",
    "# 2010 Prescribing Rate    object\n",
    "# dtype: object"
   ]
  },
  {
   "cell_type": "code",
   "execution_count": 175,
   "metadata": {},
   "outputs": [
    {
     "data": {
      "text/plain": [
       "Index(['FIPS County Code', 'County', 'State', '2010 Prescribing Rate'], dtype='object')"
      ]
     },
     "execution_count": 175,
     "metadata": {},
     "output_type": "execute_result"
    }
   ],
   "source": [
    "df_2010_reord.columns\n",
    "# Index(['FIPS County Code', 'County', 'State', '2010 Prescribing Rate'], dtype='object')"
   ]
  },
  {
   "cell_type": "code",
   "execution_count": 176,
   "metadata": {},
   "outputs": [],
   "source": [
    "# make column name from 'FIPS County Code' to be consistent with 2010 County health ranking df column name:'5-digit FIPS Code' to allow for merge\n",
    "df_2010_reord_rename= df_2010_reord.rename({'FIPS County Code':'5-digit FIPS Code'}, axis=1)"
   ]
  },
  {
   "cell_type": "code",
   "execution_count": 177,
   "metadata": {},
   "outputs": [
    {
     "data": {
      "text/plain": [
       "5-digit FIPS Code         int64\n",
       "County                   object\n",
       "State                    object\n",
       "2010 Prescribing Rate    object\n",
       "dtype: object"
      ]
     },
     "execution_count": 177,
     "metadata": {},
     "output_type": "execute_result"
    }
   ],
   "source": [
    "df_2010_reord_rename.dtypes"
   ]
  },
  {
   "cell_type": "code",
   "execution_count": 143,
   "metadata": {},
   "outputs": [
    {
     "data": {
      "text/plain": [
       "(3143, 4)"
      ]
     },
     "execution_count": 143,
     "metadata": {},
     "output_type": "execute_result"
    }
   ],
   "source": [
    "df_2010_reord_rename.shape\n",
    "#(3143, 4)"
   ]
  },
  {
   "cell_type": "code",
   "execution_count": 146,
   "metadata": {},
   "outputs": [
    {
     "data": {
      "text/plain": [
       "5-digit FIPS Code        0\n",
       "County                   0\n",
       "State                    0\n",
       "2010 Prescribing Rate    0\n",
       "dtype: int64"
      ]
     },
     "execution_count": 146,
     "metadata": {},
     "output_type": "execute_result"
    }
   ],
   "source": [
    "df_2010_reord_rename.isnull().sum()"
   ]
  },
  {
   "cell_type": "code",
   "execution_count": 147,
   "metadata": {},
   "outputs": [
    {
     "data": {
      "text/plain": [
       "5-digit FIPS Code        0\n",
       "County                   0\n",
       "State                    0\n",
       "2010 Prescribing Rate    0\n",
       "dtype: int64"
      ]
     },
     "execution_count": 147,
     "metadata": {},
     "output_type": "execute_result"
    }
   ],
   "source": [
    "df_2010_reord_rename.isna().sum()"
   ]
  },
  {
   "cell_type": "code",
   "execution_count": null,
   "metadata": {},
   "outputs": [],
   "source": [
    "len(df_2010_reord_rename['5-digit FIPS Code'].value_counts())"
   ]
  },
  {
   "cell_type": "markdown",
   "metadata": {},
   "source": [
    "### Save dataframe to CSV file"
   ]
  },
  {
   "cell_type": "code",
   "execution_count": 179,
   "metadata": {},
   "outputs": [],
   "source": [
    "# save dataframe to CSV file\n",
    "df_2010_reord_rename.to_csv('df_2010_reord_rename.csv', index=False)"
   ]
  },
  {
   "cell_type": "code",
   "execution_count": 171,
   "metadata": {},
   "outputs": [
    {
     "data": {
      "text/html": [
       "<div>\n",
       "<style scoped>\n",
       "    .dataframe tbody tr th:only-of-type {\n",
       "        vertical-align: middle;\n",
       "    }\n",
       "\n",
       "    .dataframe tbody tr th {\n",
       "        vertical-align: top;\n",
       "    }\n",
       "\n",
       "    .dataframe thead th {\n",
       "        text-align: right;\n",
       "    }\n",
       "</style>\n",
       "<table border=\"1\" class=\"dataframe\">\n",
       "  <thead>\n",
       "    <tr style=\"text-align: right;\">\n",
       "      <th></th>\n",
       "      <th>5-digit FIPS Code</th>\n",
       "      <th>State Abbreviation</th>\n",
       "      <th>Name</th>\n",
       "      <th>Release Year</th>\n",
       "      <th>Premature death raw value</th>\n",
       "      <th>Poor or fair health raw value</th>\n",
       "      <th>Poor physical health days raw value</th>\n",
       "      <th>Poor mental health days raw value</th>\n",
       "      <th>Low birthweight raw value</th>\n",
       "      <th>Adult smoking raw value</th>\n",
       "      <th>...</th>\n",
       "      <th>Liquor store density raw value</th>\n",
       "      <th>Smoking during pregnancy raw value</th>\n",
       "      <th>Motor vehicle crash occupancy rate raw value</th>\n",
       "      <th>On-road motor vehicle crash-related ER visits raw value</th>\n",
       "      <th>Off-road motor vehicle crash-related ER visits raw value</th>\n",
       "      <th>No recent dental visit raw value</th>\n",
       "      <th>Did not get needed health care raw value</th>\n",
       "      <th>Lead poisoned children (WI) raw value</th>\n",
       "      <th>Municipal water (WI) raw value</th>\n",
       "      <th>Contaminants in municipal water (WI) raw value</th>\n",
       "    </tr>\n",
       "  </thead>\n",
       "  <tbody>\n",
       "    <tr>\n",
       "      <th>0</th>\n",
       "      <td>1000</td>\n",
       "      <td>AL</td>\n",
       "      <td>Alabama</td>\n",
       "      <td>2010</td>\n",
       "      <td>10150.4</td>\n",
       "      <td>0.2003</td>\n",
       "      <td>4.26</td>\n",
       "      <td>4.05</td>\n",
       "      <td>0.1011</td>\n",
       "      <td>0.2386</td>\n",
       "      <td>...</td>\n",
       "      <td>0.675740</td>\n",
       "      <td>NaN</td>\n",
       "      <td>NaN</td>\n",
       "      <td>NaN</td>\n",
       "      <td>NaN</td>\n",
       "      <td>NaN</td>\n",
       "      <td>NaN</td>\n",
       "      <td>NaN</td>\n",
       "      <td>NaN</td>\n",
       "      <td>NaN</td>\n",
       "    </tr>\n",
       "    <tr>\n",
       "      <th>1</th>\n",
       "      <td>1001</td>\n",
       "      <td>AL</td>\n",
       "      <td>Autauga County</td>\n",
       "      <td>2010</td>\n",
       "      <td>9778.1</td>\n",
       "      <td>0.2586</td>\n",
       "      <td>5.48</td>\n",
       "      <td>4.14</td>\n",
       "      <td>0.0883</td>\n",
       "      <td>0.2814</td>\n",
       "      <td>...</td>\n",
       "      <td>0.407257</td>\n",
       "      <td>NaN</td>\n",
       "      <td>NaN</td>\n",
       "      <td>NaN</td>\n",
       "      <td>NaN</td>\n",
       "      <td>NaN</td>\n",
       "      <td>NaN</td>\n",
       "      <td>NaN</td>\n",
       "      <td>NaN</td>\n",
       "      <td>NaN</td>\n",
       "    </tr>\n",
       "  </tbody>\n",
       "</table>\n",
       "<p>2 rows × 43 columns</p>\n",
       "</div>"
      ],
      "text/plain": [
       "   5-digit FIPS Code State Abbreviation            Name  Release Year  \\\n",
       "0               1000                 AL         Alabama          2010   \n",
       "1               1001                 AL  Autauga County          2010   \n",
       "\n",
       "   Premature death raw value  Poor or fair health raw value  \\\n",
       "0                    10150.4                         0.2003   \n",
       "1                     9778.1                         0.2586   \n",
       "\n",
       "   Poor physical health days raw value  Poor mental health days raw value  \\\n",
       "0                                 4.26                               4.05   \n",
       "1                                 5.48                               4.14   \n",
       "\n",
       "   Low birthweight raw value  Adult smoking raw value  \\\n",
       "0                     0.1011                   0.2386   \n",
       "1                     0.0883                   0.2814   \n",
       "\n",
       "                        ...                        \\\n",
       "0                       ...                         \n",
       "1                       ...                         \n",
       "\n",
       "   Liquor store density raw value  Smoking during pregnancy raw value  \\\n",
       "0                        0.675740                                 NaN   \n",
       "1                        0.407257                                 NaN   \n",
       "\n",
       "   Motor vehicle crash occupancy rate raw value  \\\n",
       "0                                           NaN   \n",
       "1                                           NaN   \n",
       "\n",
       "   On-road motor vehicle crash-related ER visits raw value  \\\n",
       "0                                                NaN         \n",
       "1                                                NaN         \n",
       "\n",
       "   Off-road motor vehicle crash-related ER visits raw value  \\\n",
       "0                                                NaN          \n",
       "1                                                NaN          \n",
       "\n",
       "   No recent dental visit raw value  Did not get needed health care raw value  \\\n",
       "0                               NaN                                       NaN   \n",
       "1                               NaN                                       NaN   \n",
       "\n",
       "   Lead poisoned children (WI) raw value  Municipal water (WI) raw value  \\\n",
       "0                                    NaN                             NaN   \n",
       "1                                    NaN                             NaN   \n",
       "\n",
       "   Contaminants in municipal water (WI) raw value  \n",
       "0                                             NaN  \n",
       "1                                             NaN  \n",
       "\n",
       "[2 rows x 43 columns]"
      ]
     },
     "execution_count": 171,
     "metadata": {},
     "output_type": "execute_result"
    }
   ],
   "source": [
    "# read in scoped 2010 county health rankings csv file\n",
    "url = 'C:/Users/karen/ds2_opioid_prescribe/df_scoped.csv'\n",
    "df_scoped_health = pd.read_csv(url)\n",
    "df_scoped_health[:2]"
   ]
  },
  {
   "cell_type": "code",
   "execution_count": 184,
   "metadata": {},
   "outputs": [
    {
     "data": {
      "text/plain": [
       "(3192, 43)"
      ]
     },
     "execution_count": 184,
     "metadata": {},
     "output_type": "execute_result"
    }
   ],
   "source": [
    "df_scoped_health.shape\n",
    "#(3192, 43)"
   ]
  },
  {
   "cell_type": "code",
   "execution_count": 139,
   "metadata": {},
   "outputs": [
    {
     "data": {
      "text/plain": [
       "5-digit FIPS Code         int64\n",
       "County                   object\n",
       "State                    object\n",
       "2010 Prescribing Rate    object\n",
       "dtype: object"
      ]
     },
     "execution_count": 139,
     "metadata": {},
     "output_type": "execute_result"
    }
   ],
   "source": [
    "## df_scoped_health.dtypes\n",
    "df_2010_reord_rename.dtypes"
   ]
  },
  {
   "cell_type": "code",
   "execution_count": 91,
   "metadata": {},
   "outputs": [
    {
     "data": {
      "text/plain": [
       "Index(['5-digit FIPS Code', 'County', 'State', '2010 Prescribing Rate'], dtype='object')"
      ]
     },
     "execution_count": 91,
     "metadata": {},
     "output_type": "execute_result"
    }
   ],
   "source": [
    "df_2010_reord_rename.columns\n",
    "# Index(['5-digit FIPS Code', 'County', 'State', '2010 Prescribing Rate'], dtype='object')\n",
    "df_scoped_health.columns\n",
    "# Index(['5-digit FIPS Code', 'State Abbreviation', 'Name', 'Release Year',\n",
    "#        'Premature death raw value', 'Poor or fair health raw value',\n",
    "#        'Poor physical health days raw value',\n",
    "#        'Poor mental health days raw value', 'Low birthweight raw value',\n",
    "#        'Adult smoking raw value', 'Adult obesity raw value',\n",
    "#        'Binge drinking raw value', 'Motor vehicle crash deaths raw value',\n",
    "#        'Chlamydia rate raw value', 'Teen births raw value',\n",
    "#        'Uninsured adults raw value',\n",
    "#        'Primary care provider rate per 100000 population',\n",
    "#        'Ratio of population to primary care physicians',\n",
    "#        'Preventable hospital stays raw value', 'Diabetes monitoring raw value',\n",
    "#        'Hospice use raw value', 'High school graduation raw value',\n",
    "#        'College degrees raw value', 'Unemployment raw value',\n",
    "#        'Children in poverty raw value', 'Income inequality raw value',\n",
    "#        'Inadequate social support raw value',\n",
    "#        'Single-parent households raw value', 'Violent crime raw value',\n",
    "#        'Homicides raw value',\n",
    "#        'Air pollution-particulate matter days raw value',\n",
    "#        'Air pollution-ozone days raw value', \n",
    "#        'Access to healthy foods raw value', 'Liquor store density raw value',\n",
    "#        'Smoking during pregnancy raw value',\n",
    "#        'Motor vehicle crash occupancy rate raw value',\n",
    "#        'On-road motor vehicle crash-related ER visits raw value',\n",
    "#        'Off-road motor vehicle crash-related ER visits raw value',\n",
    "#        'No recent dental visit raw value',\n",
    "#        'Did not get needed health care raw value',\n",
    "#        'Lead poisoned children (WI) raw value',\n",
    "#        'Municipal water (WI) raw value',\n",
    "#        'Contaminants in municipal water (WI) raw value'],\n",
    "#       dtype='object')"
   ]
  },
  {
   "cell_type": "markdown",
   "metadata": {},
   "source": [
    "### Merge two Dataframes"
   ]
  },
  {
   "cell_type": "code",
   "execution_count": 185,
   "metadata": {},
   "outputs": [],
   "source": [
    "# Merge two Dataframes:df_2010_reord(2010 opioid prescribers) + df_scoped(2010 county health rankings)  on common columns using inner join\n",
    "# mergedDf = empDfObj.merge(salaryDfObj, how='inner')\n",
    "\n",
    "mergedDf = df_2010_reord_rename.merge(df_scoped_health, on ='5-digit FIPS Code', how= 'left')"
   ]
  },
  {
   "cell_type": "code",
   "execution_count": 186,
   "metadata": {},
   "outputs": [
    {
     "data": {
      "text/plain": [
       "(3143, 46)"
      ]
     },
     "execution_count": 186,
     "metadata": {},
     "output_type": "execute_result"
    }
   ],
   "source": [
    "#df_2010_reord_rename.shape\n",
    "#(3143, 4)\n",
    "#df_scoped_health.shape\n",
    "#(3192, 43)\n",
    "mergedDf.shape\n",
    "#(3143, 46)"
   ]
  },
  {
   "cell_type": "code",
   "execution_count": 187,
   "metadata": {},
   "outputs": [
    {
     "data": {
      "text/html": [
       "<div>\n",
       "<style scoped>\n",
       "    .dataframe tbody tr th:only-of-type {\n",
       "        vertical-align: middle;\n",
       "    }\n",
       "\n",
       "    .dataframe tbody tr th {\n",
       "        vertical-align: top;\n",
       "    }\n",
       "\n",
       "    .dataframe thead th {\n",
       "        text-align: right;\n",
       "    }\n",
       "</style>\n",
       "<table border=\"1\" class=\"dataframe\">\n",
       "  <thead>\n",
       "    <tr style=\"text-align: right;\">\n",
       "      <th></th>\n",
       "      <th>5-digit FIPS Code</th>\n",
       "      <th>County</th>\n",
       "      <th>State</th>\n",
       "      <th>2010 Prescribing Rate</th>\n",
       "      <th>State Abbreviation</th>\n",
       "      <th>Name</th>\n",
       "      <th>Release Year</th>\n",
       "      <th>Premature death raw value</th>\n",
       "      <th>Poor or fair health raw value</th>\n",
       "      <th>Poor physical health days raw value</th>\n",
       "      <th>...</th>\n",
       "      <th>Liquor store density raw value</th>\n",
       "      <th>Smoking during pregnancy raw value</th>\n",
       "      <th>Motor vehicle crash occupancy rate raw value</th>\n",
       "      <th>On-road motor vehicle crash-related ER visits raw value</th>\n",
       "      <th>Off-road motor vehicle crash-related ER visits raw value</th>\n",
       "      <th>No recent dental visit raw value</th>\n",
       "      <th>Did not get needed health care raw value</th>\n",
       "      <th>Lead poisoned children (WI) raw value</th>\n",
       "      <th>Municipal water (WI) raw value</th>\n",
       "      <th>Contaminants in municipal water (WI) raw value</th>\n",
       "    </tr>\n",
       "  </thead>\n",
       "  <tbody>\n",
       "    <tr>\n",
       "      <th>0</th>\n",
       "      <td>2013</td>\n",
       "      <td>Aleutians East, AK</td>\n",
       "      <td>AK</td>\n",
       "      <td>–</td>\n",
       "      <td>AK</td>\n",
       "      <td>Aleutians East Borough</td>\n",
       "      <td>2010.0</td>\n",
       "      <td>NaN</td>\n",
       "      <td>0.1748</td>\n",
       "      <td>3.35</td>\n",
       "      <td>...</td>\n",
       "      <td>0.000000</td>\n",
       "      <td>NaN</td>\n",
       "      <td>NaN</td>\n",
       "      <td>NaN</td>\n",
       "      <td>NaN</td>\n",
       "      <td>NaN</td>\n",
       "      <td>NaN</td>\n",
       "      <td>NaN</td>\n",
       "      <td>NaN</td>\n",
       "      <td>NaN</td>\n",
       "    </tr>\n",
       "    <tr>\n",
       "      <th>1</th>\n",
       "      <td>2016</td>\n",
       "      <td>Aleutians West, AK</td>\n",
       "      <td>AK</td>\n",
       "      <td>–</td>\n",
       "      <td>AK</td>\n",
       "      <td>Aleutians West Census Area</td>\n",
       "      <td>2010.0</td>\n",
       "      <td>5270.5</td>\n",
       "      <td>0.2220</td>\n",
       "      <td>1.46</td>\n",
       "      <td>...</td>\n",
       "      <td>2.050021</td>\n",
       "      <td>NaN</td>\n",
       "      <td>NaN</td>\n",
       "      <td>NaN</td>\n",
       "      <td>NaN</td>\n",
       "      <td>NaN</td>\n",
       "      <td>NaN</td>\n",
       "      <td>NaN</td>\n",
       "      <td>NaN</td>\n",
       "      <td>NaN</td>\n",
       "    </tr>\n",
       "  </tbody>\n",
       "</table>\n",
       "<p>2 rows × 46 columns</p>\n",
       "</div>"
      ],
      "text/plain": [
       "   5-digit FIPS Code              County State 2010 Prescribing Rate  \\\n",
       "0               2013  Aleutians East, AK    AK                     –   \n",
       "1               2016  Aleutians West, AK    AK                     –   \n",
       "\n",
       "  State Abbreviation                        Name  Release Year  \\\n",
       "0                 AK      Aleutians East Borough        2010.0   \n",
       "1                 AK  Aleutians West Census Area        2010.0   \n",
       "\n",
       "   Premature death raw value  Poor or fair health raw value  \\\n",
       "0                        NaN                         0.1748   \n",
       "1                     5270.5                         0.2220   \n",
       "\n",
       "   Poor physical health days raw value  \\\n",
       "0                                 3.35   \n",
       "1                                 1.46   \n",
       "\n",
       "                        ...                        \\\n",
       "0                       ...                         \n",
       "1                       ...                         \n",
       "\n",
       "   Liquor store density raw value  Smoking during pregnancy raw value  \\\n",
       "0                        0.000000                                 NaN   \n",
       "1                        2.050021                                 NaN   \n",
       "\n",
       "   Motor vehicle crash occupancy rate raw value  \\\n",
       "0                                           NaN   \n",
       "1                                           NaN   \n",
       "\n",
       "   On-road motor vehicle crash-related ER visits raw value  \\\n",
       "0                                                NaN         \n",
       "1                                                NaN         \n",
       "\n",
       "   Off-road motor vehicle crash-related ER visits raw value  \\\n",
       "0                                                NaN          \n",
       "1                                                NaN          \n",
       "\n",
       "   No recent dental visit raw value  Did not get needed health care raw value  \\\n",
       "0                               NaN                                       NaN   \n",
       "1                               NaN                                       NaN   \n",
       "\n",
       "   Lead poisoned children (WI) raw value  Municipal water (WI) raw value  \\\n",
       "0                                    NaN                             NaN   \n",
       "1                                    NaN                             NaN   \n",
       "\n",
       "   Contaminants in municipal water (WI) raw value  \n",
       "0                                             NaN  \n",
       "1                                             NaN  \n",
       "\n",
       "[2 rows x 46 columns]"
      ]
     },
     "execution_count": 187,
     "metadata": {},
     "output_type": "execute_result"
    }
   ],
   "source": [
    "mergedDf[:2]"
   ]
  },
  {
   "cell_type": "markdown",
   "metadata": {},
   "source": [
    "### Find non-NA values in merged dataframe"
   ]
  },
  {
   "cell_type": "code",
   "execution_count": 193,
   "metadata": {},
   "outputs": [
    {
     "data": {
      "text/plain": [
       "5-digit FIPS Code                                           3143\n",
       "County                                                      3143\n",
       "State                                                       3143\n",
       "2010 Prescribing Rate                                       3143\n",
       "State Abbreviation                                          3138\n",
       "Name                                                        3138\n",
       "Release Year                                                3138\n",
       "Premature death raw value                                   3039\n",
       "Poor or fair health raw value                               2708\n",
       "Poor physical health days raw value                         2901\n",
       "Poor mental health days raw value                           2902\n",
       "Low birthweight raw value                                   2914\n",
       "Adult smoking raw value                                     2448\n",
       "Adult obesity raw value                                     3138\n",
       "Binge drinking raw value                                    2604\n",
       "Motor vehicle crash deaths raw value                        3138\n",
       "Chlamydia rate raw value                                    3137\n",
       "Teen births raw value                                       2965\n",
       "Uninsured adults raw value                                  3137\n",
       "Primary care provider rate per 100000 population            3138\n",
       "Ratio of population to primary care physicians              3138\n",
       "Preventable hospital stays raw value                        3067\n",
       "Diabetes monitoring raw value                               3037\n",
       "Hospice use raw value                                       2566\n",
       "High school graduation raw value                            3066\n",
       "College degrees raw value                                   3137\n",
       "Unemployment raw value                                      3137\n",
       "Children in poverty raw value                               3137\n",
       "Income inequality raw value                                 3137\n",
       "Inadequate social support raw value                         2093\n",
       "Single-parent households raw value                          3137\n",
       "Violent crime raw value                                     1453\n",
       "Homicides raw value                                         1621\n",
       "Air pollution-particulate matter days raw value             3109\n",
       "Air pollution-ozone days raw value                          3109\n",
       "Access to healthy foods raw value                           3138\n",
       "Liquor store density raw value                              3138\n",
       "Smoking during pregnancy raw value                            72\n",
       "Motor vehicle crash occupancy rate raw value                  72\n",
       "On-road motor vehicle crash-related ER visits raw value       72\n",
       "Off-road motor vehicle crash-related ER visits raw value      71\n",
       "No recent dental visit raw value                              71\n",
       "Did not get needed health care raw value                      71\n",
       "Lead poisoned children (WI) raw value                         72\n",
       "Municipal water (WI) raw value                                71\n",
       "Contaminants in municipal water (WI) raw value                71\n",
       "dtype: int64"
      ]
     },
     "execution_count": 193,
     "metadata": {},
     "output_type": "execute_result"
    }
   ],
   "source": [
    "# give count of non-na values\n",
    "mergedDf.count(axis=0)"
   ]
  },
  {
   "cell_type": "code",
   "execution_count": 195,
   "metadata": {},
   "outputs": [],
   "source": [
    "# last 9 columns is missing 98% of values so will drop them\n",
    "cols = mergedDf.columns[-9:]"
   ]
  },
  {
   "cell_type": "code",
   "execution_count": 196,
   "metadata": {},
   "outputs": [
    {
     "data": {
      "text/plain": [
       "Index(['Smoking during pregnancy raw value',\n",
       "       'Motor vehicle crash occupancy rate raw value',\n",
       "       'On-road motor vehicle crash-related ER visits raw value',\n",
       "       'Off-road motor vehicle crash-related ER visits raw value',\n",
       "       'No recent dental visit raw value',\n",
       "       'Did not get needed health care raw value',\n",
       "       'Lead poisoned children (WI) raw value',\n",
       "       'Municipal water (WI) raw value',\n",
       "       'Contaminants in municipal water (WI) raw value'],\n",
       "      dtype='object')"
      ]
     },
     "execution_count": 196,
     "metadata": {},
     "output_type": "execute_result"
    }
   ],
   "source": [
    "cols"
   ]
  },
  {
   "cell_type": "code",
   "execution_count": 197,
   "metadata": {},
   "outputs": [],
   "source": [
    "mergedDf_scoped = mergedDf.drop(cols, axis=1)"
   ]
  },
  {
   "cell_type": "code",
   "execution_count": 200,
   "metadata": {},
   "outputs": [
    {
     "data": {
      "text/plain": [
       "(3143, 37)"
      ]
     },
     "execution_count": 200,
     "metadata": {},
     "output_type": "execute_result"
    }
   ],
   "source": [
    "mergedDf_scoped.shape\n",
    "#(3143, 37)"
   ]
  },
  {
   "cell_type": "markdown",
   "metadata": {},
   "source": [
    "### Save merged dataframe to CSV"
   ]
  },
  {
   "cell_type": "code",
   "execution_count": 208,
   "metadata": {},
   "outputs": [],
   "source": [
    "# save dataframe to CSV file\n",
    "mergedDf_scoped.to_csv('mergedDf_scoped.csv', index=False)"
   ]
  },
  {
   "cell_type": "markdown",
   "metadata": {},
   "source": [
    "### Find NA values in merged dataframe"
   ]
  },
  {
   "cell_type": "code",
   "execution_count": 204,
   "metadata": {},
   "outputs": [
    {
     "data": {
      "text/plain": [
       "5-digit FIPS Code                                      0\n",
       "County                                                 0\n",
       "State                                                  0\n",
       "2010 Prescribing Rate                                  0\n",
       "State Abbreviation                                     5\n",
       "Name                                                   5\n",
       "Release Year                                           5\n",
       "Premature death raw value                            104\n",
       "Poor or fair health raw value                        435\n",
       "Poor physical health days raw value                  242\n",
       "Poor mental health days raw value                    241\n",
       "Low birthweight raw value                            229\n",
       "Adult smoking raw value                              695\n",
       "Adult obesity raw value                                5\n",
       "Binge drinking raw value                             539\n",
       "Motor vehicle crash deaths raw value                   5\n",
       "Chlamydia rate raw value                               6\n",
       "Teen births raw value                                178\n",
       "Uninsured adults raw value                             6\n",
       "Primary care provider rate per 100000 population       5\n",
       "Ratio of population to primary care physicians         5\n",
       "Preventable hospital stays raw value                  76\n",
       "Diabetes monitoring raw value                        106\n",
       "Hospice use raw value                                577\n",
       "High school graduation raw value                      77\n",
       "College degrees raw value                              6\n",
       "Unemployment raw value                                 6\n",
       "Children in poverty raw value                          6\n",
       "Income inequality raw value                            6\n",
       "Inadequate social support raw value                 1050\n",
       "Single-parent households raw value                     6\n",
       "Violent crime raw value                             1690\n",
       "Homicides raw value                                 1522\n",
       "Air pollution-particulate matter days raw value       34\n",
       "Air pollution-ozone days raw value                    34\n",
       "Access to healthy foods raw value                      5\n",
       "Liquor store density raw value                         5\n",
       "dtype: int64"
      ]
     },
     "execution_count": 204,
     "metadata": {},
     "output_type": "execute_result"
    }
   ],
   "source": [
    "mergedDf_scoped.isna().sum()"
   ]
  },
  {
   "cell_type": "code",
   "execution_count": null,
   "metadata": {},
   "outputs": [],
   "source": []
  },
  {
   "cell_type": "code",
   "execution_count": null,
   "metadata": {},
   "outputs": [],
   "source": []
  },
  {
   "cell_type": "code",
   "execution_count": null,
   "metadata": {},
   "outputs": [],
   "source": []
  },
  {
   "cell_type": "code",
   "execution_count": null,
   "metadata": {},
   "outputs": [],
   "source": []
  }
 ],
 "metadata": {
  "kernelspec": {
   "display_name": "Python 3",
   "language": "python",
   "name": "python3"
  },
  "language_info": {
   "codemirror_mode": {
    "name": "ipython",
    "version": 3
   },
   "file_extension": ".py",
   "mimetype": "text/x-python",
   "name": "python",
   "nbconvert_exporter": "python",
   "pygments_lexer": "ipython3",
   "version": "3.6.7"
  }
 },
 "nbformat": 4,
 "nbformat_minor": 2
}
