{
 "cells": [
  {
   "cell_type": "markdown",
   "metadata": {},
   "source": [
    "# Uploading demographics socialeconomic CSV datafiles from County Health Rankings"
   ]
  },
  {
   "cell_type": "markdown",
   "metadata": {},
   "source": [
    "#### Resources\n",
    "\n",
    "<a href=\"https://www.countyhealthrankings.org/explore-health-rankings/rankings-data-documentation\">County Health Rankings</a>"
   ]
  },
  {
   "cell_type": "code",
   "execution_count": 2,
   "metadata": {},
   "outputs": [],
   "source": [
    "import pandas as pd"
   ]
  },
  {
   "cell_type": "code",
   "execution_count": 3,
   "metadata": {},
   "outputs": [],
   "source": [
    "#read in 2010 csv file\n",
    "url=\"C:/Users/karen/ds2_opioid_prescribe/County_CSV/analytic_data2010.csv\"\n",
    "df = pd.read_csv(url)"
   ]
  },
  {
   "cell_type": "code",
   "execution_count": 4,
   "metadata": {},
   "outputs": [
    {
     "data": {
      "text/plain": [
       "Index(['State FIPS Code', 'County FIPS Code', '5-digit FIPS Code',\n",
       "       'State Abbreviation', 'Name', 'Release Year',\n",
       "       'County Ranked (Yes=1/No=0)', 'Premature death raw value',\n",
       "       'Premature death numerator', 'Premature death denominator',\n",
       "       ...\n",
       "       'Municipal water (WI) raw value', 'Municipal water (WI) numerator',\n",
       "       'Municipal water (WI) denominator', 'Municipal water (WI) CI low',\n",
       "       'Municipal water (WI) CI high',\n",
       "       'Contaminants in municipal water (WI) raw value',\n",
       "       'Contaminants in municipal water (WI) numerator',\n",
       "       'Contaminants in municipal water (WI) denominator',\n",
       "       'Contaminants in municipal water (WI) CI low',\n",
       "       'Contaminants in municipal water (WI) CI high'],\n",
       "      dtype='object', length=198)"
      ]
     },
     "execution_count": 4,
     "metadata": {},
     "output_type": "execute_result"
    }
   ],
   "source": [
    "#df.shape\n",
    "#(3193, 198)\n",
    "\n",
    "#df.T.drop(columns=0) # remove the first column(first row) pertaining to aggregate USA data\n",
    "df_no_usa = df.drop(df.index[0]) # dropped first row pertaining to aggregate USA data\n",
    "df_no_usa_cols= df_no_usa.columns\n",
    "df_no_usa_cols"
   ]
  },
  {
   "cell_type": "code",
   "execution_count": 5,
   "metadata": {},
   "outputs": [
    {
     "name": "stdout",
     "output_type": "stream",
     "text": [
      "<class 'pandas.core.frame.DataFrame'>\n",
      "RangeIndex: 3193 entries, 0 to 3192\n",
      "Columns: 198 entries, State FIPS Code to Contaminants in municipal water (WI) CI high\n",
      "dtypes: float64(187), int64(9), object(2)\n",
      "memory usage: 4.8+ MB\n"
     ]
    }
   ],
   "source": [
    "df.info()"
   ]
  },
  {
   "cell_type": "markdown",
   "metadata": {},
   "source": [
    "### Scoping down the number of columns by removing duplicative information"
   ]
  },
  {
   "cell_type": "code",
   "execution_count": 6,
   "metadata": {},
   "outputs": [
    {
     "data": {
      "text/plain": [
       "5-digit FIPS Code                                             int64\n",
       "State Abbreviation                                           object\n",
       "Name                                                         object\n",
       "Release Year                                                  int64\n",
       "Premature death raw value                                   float64\n",
       "Poor or fair health raw value                               float64\n",
       "Poor physical health days raw value                         float64\n",
       "Poor mental health days raw value                           float64\n",
       "Low birthweight raw value                                   float64\n",
       "Adult smoking raw value                                     float64\n",
       "Adult obesity raw value                                     float64\n",
       "Binge drinking raw value                                    float64\n",
       "Motor vehicle crash deaths raw value                        float64\n",
       "Chlamydia rate raw value                                    float64\n",
       "Teen births raw value                                       float64\n",
       "Uninsured adults raw value                                  float64\n",
       "Primary care provider rate per 100000 population            float64\n",
       "Ratio of population to primary care physicians              float64\n",
       "Preventable hospital stays raw value                        float64\n",
       "Diabetes monitoring raw value                               float64\n",
       "Hospice use raw value                                       float64\n",
       "High school graduation raw value                            float64\n",
       "College degrees raw value                                   float64\n",
       "Unemployment raw value                                      float64\n",
       "Children in poverty raw value                               float64\n",
       "Income inequality raw value                                 float64\n",
       "Inadequate social support raw value                         float64\n",
       "Single-parent households raw value                          float64\n",
       "Violent crime raw value                                     float64\n",
       "Homicides raw value                                         float64\n",
       "Air pollution-particulate matter days raw value             float64\n",
       "Air pollution-ozone days raw value                          float64\n",
       "Access to healthy foods raw value                           float64\n",
       "Liquor store density raw value                              float64\n",
       "Smoking during pregnancy raw value                          float64\n",
       "Motor vehicle crash occupancy rate raw value                float64\n",
       "On-road motor vehicle crash-related ER visits raw value     float64\n",
       "Off-road motor vehicle crash-related ER visits raw value    float64\n",
       "No recent dental visit raw value                            float64\n",
       "Did not get needed health care raw value                    float64\n",
       "Lead poisoned children (WI) raw value                       float64\n",
       "Municipal water (WI) raw value                              float64\n",
       "Contaminants in municipal water (WI) raw value              float64\n",
       "dtype: object"
      ]
     },
     "execution_count": 6,
     "metadata": {},
     "output_type": "execute_result"
    }
   ],
   "source": [
    "#drop columns that contain the pattern - 'low|high|numerator|denominator and \n",
    "#also these 3 columns 'State FIPS Code','County FIPS Code','County Ranked (Yes=1/No=0)'\n",
    "\n",
    "cols_drop = df_no_usa_cols[df_no_usa_cols.str.contains('low|high|numerator|denominator')]\n",
    "drop_cols = ['State FIPS Code','County FIPS Code','County Ranked (Yes=1/No=0)']\n",
    "#df_no_usa.drop(columns= cols_drop)\n",
    "combined = list(cols_drop) + list(drop_cols)\n",
    "df_scoped = df_no_usa.drop(columns = combined)\n",
    "df_scoped.dtypes"
   ]
  },
  {
   "cell_type": "code",
   "execution_count": 7,
   "metadata": {},
   "outputs": [
    {
     "data": {
      "text/plain": [
       "(3192, 43)"
      ]
     },
     "execution_count": 7,
     "metadata": {},
     "output_type": "execute_result"
    }
   ],
   "source": [
    "# dropped duplicative columms- start 198 to 43 left \n",
    "df_scoped.shape\n",
    "#(3192, 43)"
   ]
  },
  {
   "cell_type": "code",
   "execution_count": 8,
   "metadata": {},
   "outputs": [
    {
     "data": {
      "text/plain": [
       "Index(['5-digit FIPS Code', 'State Abbreviation', 'Name', 'Release Year',\n",
       "       'Premature death raw value', 'Poor or fair health raw value',\n",
       "       'Poor physical health days raw value',\n",
       "       'Poor mental health days raw value', 'Low birthweight raw value',\n",
       "       'Adult smoking raw value', 'Adult obesity raw value',\n",
       "       'Binge drinking raw value', 'Motor vehicle crash deaths raw value',\n",
       "       'Chlamydia rate raw value', 'Teen births raw value',\n",
       "       'Uninsured adults raw value',\n",
       "       'Primary care provider rate per 100000 population',\n",
       "       'Ratio of population to primary care physicians',\n",
       "       'Preventable hospital stays raw value', 'Diabetes monitoring raw value',\n",
       "       'Hospice use raw value', 'High school graduation raw value',\n",
       "       'College degrees raw value', 'Unemployment raw value',\n",
       "       'Children in poverty raw value', 'Income inequality raw value',\n",
       "       'Inadequate social support raw value',\n",
       "       'Single-parent households raw value', 'Violent crime raw value',\n",
       "       'Homicides raw value',\n",
       "       'Air pollution-particulate matter days raw value',\n",
       "       'Air pollution-ozone days raw value',\n",
       "       'Access to healthy foods raw value', 'Liquor store density raw value',\n",
       "       'Smoking during pregnancy raw value',\n",
       "       'Motor vehicle crash occupancy rate raw value',\n",
       "       'On-road motor vehicle crash-related ER visits raw value',\n",
       "       'Off-road motor vehicle crash-related ER visits raw value',\n",
       "       'No recent dental visit raw value',\n",
       "       'Did not get needed health care raw value',\n",
       "       'Lead poisoned children (WI) raw value',\n",
       "       'Municipal water (WI) raw value',\n",
       "       'Contaminants in municipal water (WI) raw value'],\n",
       "      dtype='object')"
      ]
     },
     "execution_count": 8,
     "metadata": {},
     "output_type": "execute_result"
    }
   ],
   "source": [
    "df_scoped.columns"
   ]
  },
  {
   "cell_type": "code",
   "execution_count": 10,
   "metadata": {},
   "outputs": [
    {
     "data": {
      "text/plain": [
       "5-digit FIPS Code                                             int64\n",
       "State Abbreviation                                           object\n",
       "Name                                                         object\n",
       "Release Year                                                  int64\n",
       "Premature death raw value                                   float64\n",
       "Poor or fair health raw value                               float64\n",
       "Poor physical health days raw value                         float64\n",
       "Poor mental health days raw value                           float64\n",
       "Low birthweight raw value                                   float64\n",
       "Adult smoking raw value                                     float64\n",
       "Adult obesity raw value                                     float64\n",
       "Binge drinking raw value                                    float64\n",
       "Motor vehicle crash deaths raw value                        float64\n",
       "Chlamydia rate raw value                                    float64\n",
       "Teen births raw value                                       float64\n",
       "Uninsured adults raw value                                  float64\n",
       "Primary care provider rate per 100000 population            float64\n",
       "Ratio of population to primary care physicians              float64\n",
       "Preventable hospital stays raw value                        float64\n",
       "Diabetes monitoring raw value                               float64\n",
       "Hospice use raw value                                       float64\n",
       "High school graduation raw value                            float64\n",
       "College degrees raw value                                   float64\n",
       "Unemployment raw value                                      float64\n",
       "Children in poverty raw value                               float64\n",
       "Income inequality raw value                                 float64\n",
       "Inadequate social support raw value                         float64\n",
       "Single-parent households raw value                          float64\n",
       "Violent crime raw value                                     float64\n",
       "Homicides raw value                                         float64\n",
       "Air pollution-particulate matter days raw value             float64\n",
       "Air pollution-ozone days raw value                          float64\n",
       "Access to healthy foods raw value                           float64\n",
       "Liquor store density raw value                              float64\n",
       "Smoking during pregnancy raw value                          float64\n",
       "Motor vehicle crash occupancy rate raw value                float64\n",
       "On-road motor vehicle crash-related ER visits raw value     float64\n",
       "Off-road motor vehicle crash-related ER visits raw value    float64\n",
       "No recent dental visit raw value                            float64\n",
       "Did not get needed health care raw value                    float64\n",
       "Lead poisoned children (WI) raw value                       float64\n",
       "Municipal water (WI) raw value                              float64\n",
       "Contaminants in municipal water (WI) raw value              float64\n",
       "dtype: object"
      ]
     },
     "execution_count": 10,
     "metadata": {},
     "output_type": "execute_result"
    }
   ],
   "source": [
    "df_scoped.dtypes"
   ]
  },
  {
   "cell_type": "markdown",
   "metadata": {},
   "source": [
    "### Save scoped dataframe to CSV"
   ]
  },
  {
   "cell_type": "code",
   "execution_count": 11,
   "metadata": {},
   "outputs": [],
   "source": [
    "# save scoped dataframe to CSV file\n",
    "df_scoped.to_csv('df_scoped.csv', index=False)"
   ]
  },
  {
   "cell_type": "code",
   "execution_count": null,
   "metadata": {},
   "outputs": [],
   "source": []
  }
 ],
 "metadata": {
  "kernelspec": {
   "display_name": "Python 3",
   "language": "python",
   "name": "python3"
  },
  "language_info": {
   "codemirror_mode": {
    "name": "ipython",
    "version": 3
   },
   "file_extension": ".py",
   "mimetype": "text/x-python",
   "name": "python",
   "nbconvert_exporter": "python",
   "pygments_lexer": "ipython3",
   "version": "3.6.7"
  }
 },
 "nbformat": 4,
 "nbformat_minor": 2
}
