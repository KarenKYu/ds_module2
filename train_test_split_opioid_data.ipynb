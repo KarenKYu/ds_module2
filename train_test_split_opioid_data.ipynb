{
 "cells": [
  {
   "cell_type": "code",
   "execution_count": 343,
   "metadata": {},
   "outputs": [],
   "source": [
    "import pandas as pd\n",
    "\n",
    "#read in merged csv file\n",
    "url=\"C:/Users/karen/ds2_opioid_prescribe/mergedDf_scoped.csv\"\n",
    "df = pd.read_csv(url)"
   ]
  },
  {
   "cell_type": "code",
   "execution_count": 344,
   "metadata": {},
   "outputs": [
    {
     "data": {
      "text/html": [
       "<div>\n",
       "<style scoped>\n",
       "    .dataframe tbody tr th:only-of-type {\n",
       "        vertical-align: middle;\n",
       "    }\n",
       "\n",
       "    .dataframe tbody tr th {\n",
       "        vertical-align: top;\n",
       "    }\n",
       "\n",
       "    .dataframe thead th {\n",
       "        text-align: right;\n",
       "    }\n",
       "</style>\n",
       "<table border=\"1\" class=\"dataframe\">\n",
       "  <thead>\n",
       "    <tr style=\"text-align: right;\">\n",
       "      <th></th>\n",
       "      <th>5-digit FIPS Code</th>\n",
       "      <th>County</th>\n",
       "      <th>State</th>\n",
       "      <th>2010 Prescribing Rate</th>\n",
       "      <th>State Abbreviation</th>\n",
       "      <th>Name</th>\n",
       "      <th>Release Year</th>\n",
       "      <th>Premature death raw value</th>\n",
       "      <th>Poor or fair health raw value</th>\n",
       "      <th>Poor physical health days raw value</th>\n",
       "      <th>...</th>\n",
       "      <th>Children in poverty raw value</th>\n",
       "      <th>Income inequality raw value</th>\n",
       "      <th>Inadequate social support raw value</th>\n",
       "      <th>Single-parent households raw value</th>\n",
       "      <th>Violent crime raw value</th>\n",
       "      <th>Homicides raw value</th>\n",
       "      <th>Air pollution-particulate matter days raw value</th>\n",
       "      <th>Air pollution-ozone days raw value</th>\n",
       "      <th>Access to healthy foods raw value</th>\n",
       "      <th>Liquor store density raw value</th>\n",
       "    </tr>\n",
       "  </thead>\n",
       "  <tbody>\n",
       "    <tr>\n",
       "      <th>0</th>\n",
       "      <td>2013</td>\n",
       "      <td>Aleutians East, AK</td>\n",
       "      <td>AK</td>\n",
       "      <td>–</td>\n",
       "      <td>AK</td>\n",
       "      <td>Aleutians East Borough</td>\n",
       "      <td>2010.0</td>\n",
       "      <td>NaN</td>\n",
       "      <td>0.1748</td>\n",
       "      <td>3.35</td>\n",
       "      <td>...</td>\n",
       "      <td>0.140</td>\n",
       "      <td>41.9</td>\n",
       "      <td>NaN</td>\n",
       "      <td>0.155894</td>\n",
       "      <td>NaN</td>\n",
       "      <td>0.0</td>\n",
       "      <td>NaN</td>\n",
       "      <td>NaN</td>\n",
       "      <td>0.600000</td>\n",
       "      <td>0.000000</td>\n",
       "    </tr>\n",
       "    <tr>\n",
       "      <th>1</th>\n",
       "      <td>2016</td>\n",
       "      <td>Aleutians West, AK</td>\n",
       "      <td>AK</td>\n",
       "      <td>–</td>\n",
       "      <td>AK</td>\n",
       "      <td>Aleutians West Census Area</td>\n",
       "      <td>2010.0</td>\n",
       "      <td>5270.5</td>\n",
       "      <td>0.2220</td>\n",
       "      <td>1.46</td>\n",
       "      <td>...</td>\n",
       "      <td>0.092</td>\n",
       "      <td>34.6</td>\n",
       "      <td>NaN</td>\n",
       "      <td>0.088976</td>\n",
       "      <td>NaN</td>\n",
       "      <td>5.4</td>\n",
       "      <td>NaN</td>\n",
       "      <td>NaN</td>\n",
       "      <td>0.428571</td>\n",
       "      <td>2.050021</td>\n",
       "    </tr>\n",
       "  </tbody>\n",
       "</table>\n",
       "<p>2 rows × 37 columns</p>\n",
       "</div>"
      ],
      "text/plain": [
       "   5-digit FIPS Code              County State 2010 Prescribing Rate  \\\n",
       "0               2013  Aleutians East, AK    AK                     –   \n",
       "1               2016  Aleutians West, AK    AK                     –   \n",
       "\n",
       "  State Abbreviation                        Name  Release Year  \\\n",
       "0                 AK      Aleutians East Borough        2010.0   \n",
       "1                 AK  Aleutians West Census Area        2010.0   \n",
       "\n",
       "   Premature death raw value  Poor or fair health raw value  \\\n",
       "0                        NaN                         0.1748   \n",
       "1                     5270.5                         0.2220   \n",
       "\n",
       "   Poor physical health days raw value               ...                \\\n",
       "0                                 3.35               ...                 \n",
       "1                                 1.46               ...                 \n",
       "\n",
       "   Children in poverty raw value  Income inequality raw value  \\\n",
       "0                          0.140                         41.9   \n",
       "1                          0.092                         34.6   \n",
       "\n",
       "   Inadequate social support raw value  Single-parent households raw value  \\\n",
       "0                                  NaN                            0.155894   \n",
       "1                                  NaN                            0.088976   \n",
       "\n",
       "   Violent crime raw value  Homicides raw value  \\\n",
       "0                      NaN                  0.0   \n",
       "1                      NaN                  5.4   \n",
       "\n",
       "   Air pollution-particulate matter days raw value  \\\n",
       "0                                              NaN   \n",
       "1                                              NaN   \n",
       "\n",
       "   Air pollution-ozone days raw value  Access to healthy foods raw value  \\\n",
       "0                                 NaN                           0.600000   \n",
       "1                                 NaN                           0.428571   \n",
       "\n",
       "   Liquor store density raw value  \n",
       "0                        0.000000  \n",
       "1                        2.050021  \n",
       "\n",
       "[2 rows x 37 columns]"
      ]
     },
     "execution_count": 344,
     "metadata": {},
     "output_type": "execute_result"
    }
   ],
   "source": [
    "df[:2]"
   ]
  },
  {
   "cell_type": "code",
   "execution_count": 345,
   "metadata": {},
   "outputs": [
    {
     "data": {
      "text/plain": [
       "(3143, 37)"
      ]
     },
     "execution_count": 345,
     "metadata": {},
     "output_type": "execute_result"
    }
   ],
   "source": [
    "df.shape\n",
    "#(3143, 37)"
   ]
  },
  {
   "cell_type": "code",
   "execution_count": 346,
   "metadata": {},
   "outputs": [
    {
     "data": {
      "text/plain": [
       "5-digit FIPS Code                                     int64\n",
       "County                                               object\n",
       "State                                                object\n",
       "2010 Prescribing Rate                                object\n",
       "State Abbreviation                                   object\n",
       "Name                                                 object\n",
       "Release Year                                        float64\n",
       "Premature death raw value                           float64\n",
       "Poor or fair health raw value                       float64\n",
       "Poor physical health days raw value                 float64\n",
       "Poor mental health days raw value                   float64\n",
       "Low birthweight raw value                           float64\n",
       "Adult smoking raw value                             float64\n",
       "Adult obesity raw value                             float64\n",
       "Binge drinking raw value                            float64\n",
       "Motor vehicle crash deaths raw value                float64\n",
       "Chlamydia rate raw value                            float64\n",
       "Teen births raw value                               float64\n",
       "Uninsured adults raw value                          float64\n",
       "Primary care provider rate per 100000 population    float64\n",
       "Ratio of population to primary care physicians      float64\n",
       "Preventable hospital stays raw value                float64\n",
       "Diabetes monitoring raw value                       float64\n",
       "Hospice use raw value                               float64\n",
       "High school graduation raw value                    float64\n",
       "College degrees raw value                           float64\n",
       "Unemployment raw value                              float64\n",
       "Children in poverty raw value                       float64\n",
       "Income inequality raw value                         float64\n",
       "Inadequate social support raw value                 float64\n",
       "Single-parent households raw value                  float64\n",
       "Violent crime raw value                             float64\n",
       "Homicides raw value                                 float64\n",
       "Air pollution-particulate matter days raw value     float64\n",
       "Air pollution-ozone days raw value                  float64\n",
       "Access to healthy foods raw value                   float64\n",
       "Liquor store density raw value                      float64\n",
       "dtype: object"
      ]
     },
     "execution_count": 346,
     "metadata": {},
     "output_type": "execute_result"
    }
   ],
   "source": [
    "df.dtypes\n",
    "# 5-digit FIPS Code                                     int64\n",
    "# County                                               object\n",
    "# State                                                object\n",
    "# 2010 Prescribing Rate                                object\n",
    "# State Abbreviation                                   object\n",
    "# Name                                                 object\n",
    "# Release Year                                        float64\n",
    "# Premature death raw value                           float64"
   ]
  },
  {
   "cell_type": "code",
   "execution_count": 347,
   "metadata": {},
   "outputs": [
    {
     "data": {
      "text/plain": [
       "5-digit FIPS Code                                      0\n",
       "County                                                 0\n",
       "State                                                  0\n",
       "2010 Prescribing Rate                                  0\n",
       "State Abbreviation                                     5\n",
       "Name                                                   5\n",
       "Release Year                                           5\n",
       "Premature death raw value                            104\n",
       "Poor or fair health raw value                        435\n",
       "Poor physical health days raw value                  242\n",
       "Poor mental health days raw value                    241\n",
       "Low birthweight raw value                            229\n",
       "Adult smoking raw value                              695\n",
       "Adult obesity raw value                                5\n",
       "Binge drinking raw value                             539\n",
       "Motor vehicle crash deaths raw value                   5\n",
       "Chlamydia rate raw value                               6\n",
       "Teen births raw value                                178\n",
       "Uninsured adults raw value                             6\n",
       "Primary care provider rate per 100000 population       5\n",
       "Ratio of population to primary care physicians         5\n",
       "Preventable hospital stays raw value                  76\n",
       "Diabetes monitoring raw value                        106\n",
       "Hospice use raw value                                577\n",
       "High school graduation raw value                      77\n",
       "College degrees raw value                              6\n",
       "Unemployment raw value                                 6\n",
       "Children in poverty raw value                          6\n",
       "Income inequality raw value                            6\n",
       "Inadequate social support raw value                 1050\n",
       "Single-parent households raw value                     6\n",
       "Violent crime raw value                             1690\n",
       "Homicides raw value                                 1522\n",
       "Air pollution-particulate matter days raw value       34\n",
       "Air pollution-ozone days raw value                    34\n",
       "Access to healthy foods raw value                      5\n",
       "Liquor store density raw value                         5\n",
       "dtype: int64"
      ]
     },
     "execution_count": 347,
     "metadata": {},
     "output_type": "execute_result"
    }
   ],
   "source": [
    "df.isnull().sum()"
   ]
  },
  {
   "cell_type": "code",
   "execution_count": 348,
   "metadata": {},
   "outputs": [
    {
     "data": {
      "text/plain": [
       "5-digit FIPS Code                                     0\n",
       "County                                                0\n",
       "State                                                 0\n",
       "2010 Prescribing Rate                               402\n",
       "State Abbreviation                                    0\n",
       "Name                                                  0\n",
       "Release Year                                          0\n",
       "Premature death raw value                             0\n",
       "Poor or fair health raw value                         0\n",
       "Poor physical health days raw value                   0\n",
       "Poor mental health days raw value                     0\n",
       "Low birthweight raw value                             0\n",
       "Adult smoking raw value                               0\n",
       "Adult obesity raw value                               0\n",
       "Binge drinking raw value                              0\n",
       "Motor vehicle crash deaths raw value                  0\n",
       "Chlamydia rate raw value                              0\n",
       "Teen births raw value                                 0\n",
       "Uninsured adults raw value                            0\n",
       "Primary care provider rate per 100000 population      0\n",
       "Ratio of population to primary care physicians        0\n",
       "Preventable hospital stays raw value                  0\n",
       "Diabetes monitoring raw value                         0\n",
       "Hospice use raw value                                 0\n",
       "High school graduation raw value                      0\n",
       "College degrees raw value                             0\n",
       "Unemployment raw value                                0\n",
       "Children in poverty raw value                         0\n",
       "Income inequality raw value                           0\n",
       "Inadequate social support raw value                   0\n",
       "Single-parent households raw value                    0\n",
       "Violent crime raw value                               0\n",
       "Homicides raw value                                   0\n",
       "Air pollution-particulate matter days raw value       0\n",
       "Air pollution-ozone days raw value                    0\n",
       "Access to healthy foods raw value                     0\n",
       "Liquor store density raw value                        0\n",
       "dtype: int64"
      ]
     },
     "execution_count": 348,
     "metadata": {},
     "output_type": "execute_result"
    }
   ],
   "source": [
    "(df == '–').sum()"
   ]
  },
  {
   "cell_type": "markdown",
   "metadata": {},
   "source": [
    "### Convert all '-' to NaN in DataFrame"
   ]
  },
  {
   "cell_type": "code",
   "execution_count": 349,
   "metadata": {
    "scrolled": true
   },
   "outputs": [
    {
     "data": {
      "text/html": [
       "<div>\n",
       "<style scoped>\n",
       "    .dataframe tbody tr th:only-of-type {\n",
       "        vertical-align: middle;\n",
       "    }\n",
       "\n",
       "    .dataframe tbody tr th {\n",
       "        vertical-align: top;\n",
       "    }\n",
       "\n",
       "    .dataframe thead th {\n",
       "        text-align: right;\n",
       "    }\n",
       "</style>\n",
       "<table border=\"1\" class=\"dataframe\">\n",
       "  <thead>\n",
       "    <tr style=\"text-align: right;\">\n",
       "      <th></th>\n",
       "      <th>5-digit FIPS Code</th>\n",
       "      <th>County</th>\n",
       "      <th>State</th>\n",
       "      <th>2010 Prescribing Rate</th>\n",
       "      <th>State Abbreviation</th>\n",
       "      <th>Name</th>\n",
       "      <th>Release Year</th>\n",
       "      <th>Premature death raw value</th>\n",
       "      <th>Poor or fair health raw value</th>\n",
       "      <th>Poor physical health days raw value</th>\n",
       "      <th>...</th>\n",
       "      <th>Children in poverty raw value</th>\n",
       "      <th>Income inequality raw value</th>\n",
       "      <th>Inadequate social support raw value</th>\n",
       "      <th>Single-parent households raw value</th>\n",
       "      <th>Violent crime raw value</th>\n",
       "      <th>Homicides raw value</th>\n",
       "      <th>Air pollution-particulate matter days raw value</th>\n",
       "      <th>Air pollution-ozone days raw value</th>\n",
       "      <th>Access to healthy foods raw value</th>\n",
       "      <th>Liquor store density raw value</th>\n",
       "    </tr>\n",
       "  </thead>\n",
       "  <tbody>\n",
       "    <tr>\n",
       "      <th>0</th>\n",
       "      <td>2013</td>\n",
       "      <td>Aleutians East, AK</td>\n",
       "      <td>AK</td>\n",
       "      <td>NaN</td>\n",
       "      <td>AK</td>\n",
       "      <td>Aleutians East Borough</td>\n",
       "      <td>2010.0</td>\n",
       "      <td>NaN</td>\n",
       "      <td>0.1748</td>\n",
       "      <td>3.35</td>\n",
       "      <td>...</td>\n",
       "      <td>0.140</td>\n",
       "      <td>41.9</td>\n",
       "      <td>NaN</td>\n",
       "      <td>0.155894</td>\n",
       "      <td>NaN</td>\n",
       "      <td>0.0</td>\n",
       "      <td>NaN</td>\n",
       "      <td>NaN</td>\n",
       "      <td>0.600000</td>\n",
       "      <td>0.000000</td>\n",
       "    </tr>\n",
       "    <tr>\n",
       "      <th>1</th>\n",
       "      <td>2016</td>\n",
       "      <td>Aleutians West, AK</td>\n",
       "      <td>AK</td>\n",
       "      <td>NaN</td>\n",
       "      <td>AK</td>\n",
       "      <td>Aleutians West Census Area</td>\n",
       "      <td>2010.0</td>\n",
       "      <td>5270.5</td>\n",
       "      <td>0.2220</td>\n",
       "      <td>1.46</td>\n",
       "      <td>...</td>\n",
       "      <td>0.092</td>\n",
       "      <td>34.6</td>\n",
       "      <td>NaN</td>\n",
       "      <td>0.088976</td>\n",
       "      <td>NaN</td>\n",
       "      <td>5.4</td>\n",
       "      <td>NaN</td>\n",
       "      <td>NaN</td>\n",
       "      <td>0.428571</td>\n",
       "      <td>2.050021</td>\n",
       "    </tr>\n",
       "  </tbody>\n",
       "</table>\n",
       "<p>2 rows × 37 columns</p>\n",
       "</div>"
      ],
      "text/plain": [
       "   5-digit FIPS Code              County State 2010 Prescribing Rate  \\\n",
       "0               2013  Aleutians East, AK    AK                   NaN   \n",
       "1               2016  Aleutians West, AK    AK                   NaN   \n",
       "\n",
       "  State Abbreviation                        Name  Release Year  \\\n",
       "0                 AK      Aleutians East Borough        2010.0   \n",
       "1                 AK  Aleutians West Census Area        2010.0   \n",
       "\n",
       "   Premature death raw value  Poor or fair health raw value  \\\n",
       "0                        NaN                         0.1748   \n",
       "1                     5270.5                         0.2220   \n",
       "\n",
       "   Poor physical health days raw value               ...                \\\n",
       "0                                 3.35               ...                 \n",
       "1                                 1.46               ...                 \n",
       "\n",
       "   Children in poverty raw value  Income inequality raw value  \\\n",
       "0                          0.140                         41.9   \n",
       "1                          0.092                         34.6   \n",
       "\n",
       "   Inadequate social support raw value  Single-parent households raw value  \\\n",
       "0                                  NaN                            0.155894   \n",
       "1                                  NaN                            0.088976   \n",
       "\n",
       "   Violent crime raw value  Homicides raw value  \\\n",
       "0                      NaN                  0.0   \n",
       "1                      NaN                  5.4   \n",
       "\n",
       "   Air pollution-particulate matter days raw value  \\\n",
       "0                                              NaN   \n",
       "1                                              NaN   \n",
       "\n",
       "   Air pollution-ozone days raw value  Access to healthy foods raw value  \\\n",
       "0                                 NaN                           0.600000   \n",
       "1                                 NaN                           0.428571   \n",
       "\n",
       "   Liquor store density raw value  \n",
       "0                        0.000000  \n",
       "1                        2.050021  \n",
       "\n",
       "[2 rows x 37 columns]"
      ]
     },
     "execution_count": 349,
     "metadata": {},
     "output_type": "execute_result"
    }
   ],
   "source": [
    "import numpy as np\n",
    "df_num = df.replace('–',np.NaN)\n",
    "df_num[:2]"
   ]
  },
  {
   "cell_type": "code",
   "execution_count": 350,
   "metadata": {
    "scrolled": true
   },
   "outputs": [
    {
     "data": {
      "text/plain": [
       "5-digit FIPS Code                                   0\n",
       "County                                              0\n",
       "State                                               0\n",
       "2010 Prescribing Rate                               0\n",
       "State Abbreviation                                  0\n",
       "Name                                                0\n",
       "Release Year                                        0\n",
       "Premature death raw value                           0\n",
       "Poor or fair health raw value                       0\n",
       "Poor physical health days raw value                 0\n",
       "Poor mental health days raw value                   0\n",
       "Low birthweight raw value                           0\n",
       "Adult smoking raw value                             0\n",
       "Adult obesity raw value                             0\n",
       "Binge drinking raw value                            0\n",
       "Motor vehicle crash deaths raw value                0\n",
       "Chlamydia rate raw value                            0\n",
       "Teen births raw value                               0\n",
       "Uninsured adults raw value                          0\n",
       "Primary care provider rate per 100000 population    0\n",
       "Ratio of population to primary care physicians      0\n",
       "Preventable hospital stays raw value                0\n",
       "Diabetes monitoring raw value                       0\n",
       "Hospice use raw value                               0\n",
       "High school graduation raw value                    0\n",
       "College degrees raw value                           0\n",
       "Unemployment raw value                              0\n",
       "Children in poverty raw value                       0\n",
       "Income inequality raw value                         0\n",
       "Inadequate social support raw value                 0\n",
       "Single-parent households raw value                  0\n",
       "Violent crime raw value                             0\n",
       "Homicides raw value                                 0\n",
       "Air pollution-particulate matter days raw value     0\n",
       "Air pollution-ozone days raw value                  0\n",
       "Access to healthy foods raw value                   0\n",
       "Liquor store density raw value                      0\n",
       "dtype: int64"
      ]
     },
     "execution_count": 350,
     "metadata": {},
     "output_type": "execute_result"
    }
   ],
   "source": [
    "(df_num == '–').sum()\n",
    "\n",
    "# 5-digit FIPS Code                                   0\n",
    "# County                                              0\n",
    "# State                                               0\n",
    "# 2010 Prescribing Rate                               0\n",
    "# State Abbreviation                                  0\n",
    "# Name                                                0\n",
    "# Release Year                                        0"
   ]
  },
  {
   "cell_type": "code",
   "execution_count": 351,
   "metadata": {
    "scrolled": true
   },
   "outputs": [
    {
     "data": {
      "text/plain": [
       "5-digit FIPS Code                                     int64\n",
       "County                                               object\n",
       "State                                                object\n",
       "2010 Prescribing Rate                                object\n",
       "State Abbreviation                                   object\n",
       "Name                                                 object\n",
       "Release Year                                        float64\n",
       "Premature death raw value                           float64\n",
       "Poor or fair health raw value                       float64\n",
       "Poor physical health days raw value                 float64\n",
       "Poor mental health days raw value                   float64\n",
       "Low birthweight raw value                           float64\n",
       "Adult smoking raw value                             float64\n",
       "Adult obesity raw value                             float64\n",
       "Binge drinking raw value                            float64\n",
       "Motor vehicle crash deaths raw value                float64\n",
       "Chlamydia rate raw value                            float64\n",
       "Teen births raw value                               float64\n",
       "Uninsured adults raw value                          float64\n",
       "Primary care provider rate per 100000 population    float64\n",
       "Ratio of population to primary care physicians      float64\n",
       "Preventable hospital stays raw value                float64\n",
       "Diabetes monitoring raw value                       float64\n",
       "Hospice use raw value                               float64\n",
       "High school graduation raw value                    float64\n",
       "College degrees raw value                           float64\n",
       "Unemployment raw value                              float64\n",
       "Children in poverty raw value                       float64\n",
       "Income inequality raw value                         float64\n",
       "Inadequate social support raw value                 float64\n",
       "Single-parent households raw value                  float64\n",
       "Violent crime raw value                             float64\n",
       "Homicides raw value                                 float64\n",
       "Air pollution-particulate matter days raw value     float64\n",
       "Air pollution-ozone days raw value                  float64\n",
       "Access to healthy foods raw value                   float64\n",
       "Liquor store density raw value                      float64\n",
       "dtype: object"
      ]
     },
     "execution_count": 351,
     "metadata": {},
     "output_type": "execute_result"
    }
   ],
   "source": [
    "df_num.dtypes\n",
    "\n",
    "# 5-digit FIPS Code                                     int64\n",
    "# County                                               object\n",
    "# State                                                object\n",
    "# 2010 Prescribing Rate                                object\n",
    "# State Abbreviation                                   object\n",
    "# Name                                                 object\n",
    "# Release Year                                        float64"
   ]
  },
  {
   "cell_type": "code",
   "execution_count": 369,
   "metadata": {},
   "outputs": [
    {
     "data": {
      "text/plain": [
       "5-digit FIPS Code                                      0\n",
       "County                                                 0\n",
       "State                                                  0\n",
       "2010 Prescribing Rate                                402\n",
       "Release Year                                           5\n",
       "Premature death raw value                            104\n",
       "Poor or fair health raw value                        435\n",
       "Poor physical health days raw value                  242\n",
       "Poor mental health days raw value                    241\n",
       "Low birthweight raw value                            229\n",
       "Adult smoking raw value                              695\n",
       "Adult obesity raw value                                5\n",
       "Binge drinking raw value                             539\n",
       "Motor vehicle crash deaths raw value                   5\n",
       "Chlamydia rate raw value                               6\n",
       "Teen births raw value                                178\n",
       "Uninsured adults raw value                             6\n",
       "Primary care provider rate per 100000 population       5\n",
       "Ratio of population to primary care physicians         5\n",
       "Preventable hospital stays raw value                  76\n",
       "Diabetes monitoring raw value                        106\n",
       "Hospice use raw value                                577\n",
       "High school graduation raw value                      77\n",
       "College degrees raw value                              6\n",
       "Unemployment raw value                                 6\n",
       "Children in poverty raw value                          6\n",
       "Income inequality raw value                            6\n",
       "Inadequate social support raw value                 1050\n",
       "Single-parent households raw value                     6\n",
       "Violent crime raw value                             1690\n",
       "Homicides raw value                                 1522\n",
       "Air pollution-particulate matter days raw value       34\n",
       "Air pollution-ozone days raw value                    34\n",
       "Access to healthy foods raw value                      5\n",
       "Liquor store density raw value                         5\n",
       "dtype: int64"
      ]
     },
     "execution_count": 369,
     "metadata": {},
     "output_type": "execute_result"
    }
   ],
   "source": [
    "# Check for NA values in each column\n",
    "df_num.isna().sum()"
   ]
  },
  {
   "cell_type": "code",
   "execution_count": 367,
   "metadata": {},
   "outputs": [],
   "source": [
    "# coerce prescribing rate from object to numeric\n",
    "df_num['2010 Prescribing Rate']=pd.to_numeric(df_num['2010 Prescribing Rate'])"
   ]
  },
  {
   "cell_type": "code",
   "execution_count": 370,
   "metadata": {},
   "outputs": [],
   "source": [
    "df_num = df_num.drop(columns=['State Abbreviation','Name'])\n",
    "# one df had state and the other had State Abbreviation which is duplicated, also Name is a variation of county"
   ]
  },
  {
   "cell_type": "code",
   "execution_count": 375,
   "metadata": {},
   "outputs": [
    {
     "data": {
      "text/plain": [
       "5-digit FIPS Code                                     int64\n",
       "County                                               object\n",
       "State                                                object\n",
       "2010 Prescribing Rate                               float64\n",
       "Release Year                                        float64\n",
       "Premature death raw value                           float64\n",
       "Poor or fair health raw value                       float64\n",
       "Poor physical health days raw value                 float64\n",
       "Poor mental health days raw value                   float64\n",
       "Low birthweight raw value                           float64\n",
       "Adult smoking raw value                             float64\n",
       "Adult obesity raw value                             float64\n",
       "Binge drinking raw value                            float64\n",
       "Motor vehicle crash deaths raw value                float64\n",
       "Chlamydia rate raw value                            float64\n",
       "Teen births raw value                               float64\n",
       "Uninsured adults raw value                          float64\n",
       "Primary care provider rate per 100000 population    float64\n",
       "Ratio of population to primary care physicians      float64\n",
       "Preventable hospital stays raw value                float64\n",
       "Diabetes monitoring raw value                       float64\n",
       "Hospice use raw value                               float64\n",
       "High school graduation raw value                    float64\n",
       "College degrees raw value                           float64\n",
       "Unemployment raw value                              float64\n",
       "Children in poverty raw value                       float64\n",
       "Income inequality raw value                         float64\n",
       "Inadequate social support raw value                 float64\n",
       "Single-parent households raw value                  float64\n",
       "Violent crime raw value                             float64\n",
       "Homicides raw value                                 float64\n",
       "Air pollution-particulate matter days raw value     float64\n",
       "Air pollution-ozone days raw value                  float64\n",
       "Access to healthy foods raw value                   float64\n",
       "Liquor store density raw value                      float64\n",
       "dtype: object"
      ]
     },
     "execution_count": 375,
     "metadata": {},
     "output_type": "execute_result"
    }
   ],
   "source": [
    "df_num[:2].dtypes\n",
    "\n",
    "# 5-digit FIPS Code                                     int64\n",
    "# County                                               object\n",
    "# State                                                object\n",
    "# 2010 Prescribing Rate                               float64\n",
    "# Release Year                                        float64"
   ]
  },
  {
   "cell_type": "markdown",
   "metadata": {},
   "source": [
    "### Replace NA values"
   ]
  },
  {
   "cell_type": "code",
   "execution_count": 376,
   "metadata": {},
   "outputs": [],
   "source": [
    "from sklearn.impute import SimpleImputer\n",
    "from sklearn_pandas import DataFrameMapper"
   ]
  },
  {
   "cell_type": "code",
   "execution_count": 377,
   "metadata": {},
   "outputs": [],
   "source": [
    "# Select all the numeric columns and create steps for Dataframe mapper and use simple imputer to replace nan\n",
    "# in for values in each column with mean\n",
    "cols = df_num.select_dtypes(exclude='object').columns\n",
    "\n",
    "mapper = DataFrameMapper([([col], SimpleImputer()) for col in cols], df_out=True)"
   ]
  },
  {
   "cell_type": "code",
   "execution_count": 313,
   "metadata": {},
   "outputs": [],
   "source": [
    "# [(['5-digit FIPS Code'],\n",
    "#   SimpleImputer(copy=True, fill_value=None, missing_values=nan, strategy='mean',\n",
    "#          verbose=0)),\n",
    "#  (['2010 Prescribing Rate'],\n",
    "#   SimpleImputer(copy=True, fill_value=None, missing_values=nan, strategy='mean',\n",
    "#          verbose=0))]"
   ]
  },
  {
   "cell_type": "code",
   "execution_count": 378,
   "metadata": {},
   "outputs": [
    {
     "data": {
      "text/html": [
       "<div>\n",
       "<style scoped>\n",
       "    .dataframe tbody tr th:only-of-type {\n",
       "        vertical-align: middle;\n",
       "    }\n",
       "\n",
       "    .dataframe tbody tr th {\n",
       "        vertical-align: top;\n",
       "    }\n",
       "\n",
       "    .dataframe thead th {\n",
       "        text-align: right;\n",
       "    }\n",
       "</style>\n",
       "<table border=\"1\" class=\"dataframe\">\n",
       "  <thead>\n",
       "    <tr style=\"text-align: right;\">\n",
       "      <th></th>\n",
       "      <th>5-digit FIPS Code</th>\n",
       "      <th>2010 Prescribing Rate</th>\n",
       "      <th>Release Year</th>\n",
       "      <th>Premature death raw value</th>\n",
       "      <th>Poor or fair health raw value</th>\n",
       "      <th>Poor physical health days raw value</th>\n",
       "      <th>Poor mental health days raw value</th>\n",
       "      <th>Low birthweight raw value</th>\n",
       "      <th>Adult smoking raw value</th>\n",
       "      <th>Adult obesity raw value</th>\n",
       "      <th>...</th>\n",
       "      <th>Children in poverty raw value</th>\n",
       "      <th>Income inequality raw value</th>\n",
       "      <th>Inadequate social support raw value</th>\n",
       "      <th>Single-parent households raw value</th>\n",
       "      <th>Violent crime raw value</th>\n",
       "      <th>Homicides raw value</th>\n",
       "      <th>Air pollution-particulate matter days raw value</th>\n",
       "      <th>Air pollution-ozone days raw value</th>\n",
       "      <th>Access to healthy foods raw value</th>\n",
       "      <th>Liquor store density raw value</th>\n",
       "    </tr>\n",
       "  </thead>\n",
       "  <tbody>\n",
       "    <tr>\n",
       "      <th>0</th>\n",
       "      <td>2013.0</td>\n",
       "      <td>92.522255</td>\n",
       "      <td>2010.0</td>\n",
       "      <td>8407.271537</td>\n",
       "      <td>0.1748</td>\n",
       "      <td>3.35</td>\n",
       "      <td>4.89</td>\n",
       "      <td>0.080278</td>\n",
       "      <td>0.224214</td>\n",
       "      <td>0.282</td>\n",
       "      <td>...</td>\n",
       "      <td>0.140</td>\n",
       "      <td>41.9</td>\n",
       "      <td>0.189622</td>\n",
       "      <td>0.155894</td>\n",
       "      <td>328.102753</td>\n",
       "      <td>0.0</td>\n",
       "      <td>2.828884</td>\n",
       "      <td>2.841106</td>\n",
       "      <td>0.600000</td>\n",
       "      <td>0.000000</td>\n",
       "    </tr>\n",
       "    <tr>\n",
       "      <th>1</th>\n",
       "      <td>2016.0</td>\n",
       "      <td>92.522255</td>\n",
       "      <td>2010.0</td>\n",
       "      <td>5270.500000</td>\n",
       "      <td>0.2220</td>\n",
       "      <td>1.46</td>\n",
       "      <td>1.81</td>\n",
       "      <td>0.080278</td>\n",
       "      <td>0.351600</td>\n",
       "      <td>0.289</td>\n",
       "      <td>...</td>\n",
       "      <td>0.092</td>\n",
       "      <td>34.6</td>\n",
       "      <td>0.189622</td>\n",
       "      <td>0.088976</td>\n",
       "      <td>328.102753</td>\n",
       "      <td>5.4</td>\n",
       "      <td>2.828884</td>\n",
       "      <td>2.841106</td>\n",
       "      <td>0.428571</td>\n",
       "      <td>2.050021</td>\n",
       "    </tr>\n",
       "    <tr>\n",
       "      <th>2</th>\n",
       "      <td>2020.0</td>\n",
       "      <td>75.100000</td>\n",
       "      <td>2010.0</td>\n",
       "      <td>6981.400000</td>\n",
       "      <td>0.1331</td>\n",
       "      <td>3.55</td>\n",
       "      <td>3.05</td>\n",
       "      <td>0.063300</td>\n",
       "      <td>0.198000</td>\n",
       "      <td>0.259</td>\n",
       "      <td>...</td>\n",
       "      <td>0.105</td>\n",
       "      <td>39.7</td>\n",
       "      <td>0.175800</td>\n",
       "      <td>0.115332</td>\n",
       "      <td>328.102753</td>\n",
       "      <td>7.0</td>\n",
       "      <td>2.828884</td>\n",
       "      <td>2.841106</td>\n",
       "      <td>0.387097</td>\n",
       "      <td>1.214624</td>\n",
       "    </tr>\n",
       "  </tbody>\n",
       "</table>\n",
       "<p>3 rows × 33 columns</p>\n",
       "</div>"
      ],
      "text/plain": [
       "   5-digit FIPS Code  2010 Prescribing Rate  Release Year  \\\n",
       "0             2013.0              92.522255        2010.0   \n",
       "1             2016.0              92.522255        2010.0   \n",
       "2             2020.0              75.100000        2010.0   \n",
       "\n",
       "   Premature death raw value  Poor or fair health raw value  \\\n",
       "0                8407.271537                         0.1748   \n",
       "1                5270.500000                         0.2220   \n",
       "2                6981.400000                         0.1331   \n",
       "\n",
       "   Poor physical health days raw value  Poor mental health days raw value  \\\n",
       "0                                 3.35                               4.89   \n",
       "1                                 1.46                               1.81   \n",
       "2                                 3.55                               3.05   \n",
       "\n",
       "   Low birthweight raw value  Adult smoking raw value  \\\n",
       "0                   0.080278                 0.224214   \n",
       "1                   0.080278                 0.351600   \n",
       "2                   0.063300                 0.198000   \n",
       "\n",
       "   Adult obesity raw value               ...                \\\n",
       "0                    0.282               ...                 \n",
       "1                    0.289               ...                 \n",
       "2                    0.259               ...                 \n",
       "\n",
       "   Children in poverty raw value  Income inequality raw value  \\\n",
       "0                          0.140                         41.9   \n",
       "1                          0.092                         34.6   \n",
       "2                          0.105                         39.7   \n",
       "\n",
       "   Inadequate social support raw value  Single-parent households raw value  \\\n",
       "0                             0.189622                            0.155894   \n",
       "1                             0.189622                            0.088976   \n",
       "2                             0.175800                            0.115332   \n",
       "\n",
       "   Violent crime raw value  Homicides raw value  \\\n",
       "0               328.102753                  0.0   \n",
       "1               328.102753                  5.4   \n",
       "2               328.102753                  7.0   \n",
       "\n",
       "   Air pollution-particulate matter days raw value  \\\n",
       "0                                         2.828884   \n",
       "1                                         2.828884   \n",
       "2                                         2.828884   \n",
       "\n",
       "   Air pollution-ozone days raw value  Access to healthy foods raw value  \\\n",
       "0                            2.841106                           0.600000   \n",
       "1                            2.841106                           0.428571   \n",
       "2                            2.841106                           0.387097   \n",
       "\n",
       "   Liquor store density raw value  \n",
       "0                        0.000000  \n",
       "1                        2.050021  \n",
       "2                        1.214624  \n",
       "\n",
       "[3 rows x 33 columns]"
      ]
     },
     "execution_count": 378,
     "metadata": {},
     "output_type": "execute_result"
    }
   ],
   "source": [
    "transformed_num_df = mapper.fit_transform(df_num)\n",
    "transformed_num_df[:3]"
   ]
  },
  {
   "cell_type": "code",
   "execution_count": 360,
   "metadata": {},
   "outputs": [],
   "source": [
    "#transformed_num_df.dtypes\n",
    "\n",
    "# 5-digit FIPS Code                                   float64\n",
    "# 2010 Prescribing Rate                               float64\n",
    "# Release Year                                        float64"
   ]
  },
  {
   "cell_type": "code",
   "execution_count": 416,
   "metadata": {},
   "outputs": [],
   "source": [
    "# convert 5-digit FIPS Code column to integer and reassign back to original dataframe.\n",
    "transformed_num_df['5-digit FIPS Code'] = transformed_num_df['5-digit FIPS Code'].fillna(0).astype('int64')\n",
    "# convert Release Year column to integer and reassign back to original dataframe.\n",
    "transformed_num_df['Release Year'] = transformed_num_df['Release Year'].fillna(2010).astype('int64')"
   ]
  },
  {
   "cell_type": "markdown",
   "metadata": {},
   "source": [
    "### Coerce obj to category and assign cat codes"
   ]
  },
  {
   "cell_type": "code",
   "execution_count": 417,
   "metadata": {},
   "outputs": [
    {
     "data": {
      "text/plain": [
       "Index(['County', 'State'], dtype='object')"
      ]
     },
     "execution_count": 417,
     "metadata": {},
     "output_type": "execute_result"
    }
   ],
   "source": [
    "obj_df=df_num.select_dtypes('object')\n",
    "obj_df.columns\n",
    "# Index(['County', 'State'], dtype='object')"
   ]
  },
  {
   "cell_type": "code",
   "execution_count": 418,
   "metadata": {},
   "outputs": [],
   "source": [
    "cat_obj_df = obj_df.astype('category')\n",
    "\n",
    "maps = [dict(zip(cat_obj_df[col], cat_obj_df[col].cat.codes)) for col in cat_obj_df.columns]\n",
    "mapped_series = [cat_obj_df[col].map(mapping_dict) for col, mapping_dict in zip(cat_obj_df.columns, maps)]\n",
    "\n",
    "mapped_df = pd.concat(mapped_series, axis = 1)\n"
   ]
  },
  {
   "cell_type": "code",
   "execution_count": 317,
   "metadata": {},
   "outputs": [],
   "source": [
    "#not working with labelencoder\n",
    "# from sklearn.preprocessing import LabelEncoder\n",
    "# obj_df_cols = obj_df.columns\n",
    "# mapper_obj = DataFrameMapper([([col], LabelEncoder()) for col in obj_df_cols], df_out=True)\n",
    "\n",
    "# mapper_obj\n",
    "# DataFrameMapper(default=False, df_out=True,\n",
    "#         features=[(['County'], LabelEncoder()), (['State'], LabelEncoder()), (['Name'], LabelEncoder())],\n",
    "#         input_df=False, sparse=False)"
   ]
  },
  {
   "cell_type": "code",
   "execution_count": 391,
   "metadata": {},
   "outputs": [],
   "source": [
    "# transformed_obj_df = mapper_obj.fit_transform(obj_df)"
   ]
  },
  {
   "cell_type": "code",
   "execution_count": 445,
   "metadata": {},
   "outputs": [
    {
     "data": {
      "text/html": [
       "<div>\n",
       "<style scoped>\n",
       "    .dataframe tbody tr th:only-of-type {\n",
       "        vertical-align: middle;\n",
       "    }\n",
       "\n",
       "    .dataframe tbody tr th {\n",
       "        vertical-align: top;\n",
       "    }\n",
       "\n",
       "    .dataframe thead th {\n",
       "        text-align: right;\n",
       "    }\n",
       "</style>\n",
       "<table border=\"1\" class=\"dataframe\">\n",
       "  <thead>\n",
       "    <tr style=\"text-align: right;\">\n",
       "      <th></th>\n",
       "      <th>County</th>\n",
       "      <th>State</th>\n",
       "      <th>5-digit FIPS Code</th>\n",
       "      <th>2010 Prescribing Rate</th>\n",
       "      <th>Release Year</th>\n",
       "      <th>Premature death raw value</th>\n",
       "      <th>Poor or fair health raw value</th>\n",
       "      <th>Poor physical health days raw value</th>\n",
       "      <th>Poor mental health days raw value</th>\n",
       "      <th>Low birthweight raw value</th>\n",
       "      <th>...</th>\n",
       "      <th>Children in poverty raw value</th>\n",
       "      <th>Income inequality raw value</th>\n",
       "      <th>Inadequate social support raw value</th>\n",
       "      <th>Single-parent households raw value</th>\n",
       "      <th>Violent crime raw value</th>\n",
       "      <th>Homicides raw value</th>\n",
       "      <th>Air pollution-particulate matter days raw value</th>\n",
       "      <th>Air pollution-ozone days raw value</th>\n",
       "      <th>Access to healthy foods raw value</th>\n",
       "      <th>Liquor store density raw value</th>\n",
       "    </tr>\n",
       "  </thead>\n",
       "  <tbody>\n",
       "    <tr>\n",
       "      <th>0</th>\n",
       "      <td>32</td>\n",
       "      <td>0</td>\n",
       "      <td>2013</td>\n",
       "      <td>92.522255</td>\n",
       "      <td>2010</td>\n",
       "      <td>8407.271537</td>\n",
       "      <td>0.1748</td>\n",
       "      <td>3.35</td>\n",
       "      <td>4.89</td>\n",
       "      <td>0.080278</td>\n",
       "      <td>...</td>\n",
       "      <td>0.140</td>\n",
       "      <td>41.9</td>\n",
       "      <td>0.189622</td>\n",
       "      <td>0.155894</td>\n",
       "      <td>328.102753</td>\n",
       "      <td>0.0</td>\n",
       "      <td>2.828884</td>\n",
       "      <td>2.841106</td>\n",
       "      <td>0.600000</td>\n",
       "      <td>0.000000</td>\n",
       "    </tr>\n",
       "    <tr>\n",
       "      <th>1</th>\n",
       "      <td>33</td>\n",
       "      <td>0</td>\n",
       "      <td>2016</td>\n",
       "      <td>92.522255</td>\n",
       "      <td>2010</td>\n",
       "      <td>5270.500000</td>\n",
       "      <td>0.2220</td>\n",
       "      <td>1.46</td>\n",
       "      <td>1.81</td>\n",
       "      <td>0.080278</td>\n",
       "      <td>...</td>\n",
       "      <td>0.092</td>\n",
       "      <td>34.6</td>\n",
       "      <td>0.189622</td>\n",
       "      <td>0.088976</td>\n",
       "      <td>328.102753</td>\n",
       "      <td>5.4</td>\n",
       "      <td>2.828884</td>\n",
       "      <td>2.841106</td>\n",
       "      <td>0.428571</td>\n",
       "      <td>2.050021</td>\n",
       "    </tr>\n",
       "    <tr>\n",
       "      <th>2</th>\n",
       "      <td>58</td>\n",
       "      <td>0</td>\n",
       "      <td>2020</td>\n",
       "      <td>75.100000</td>\n",
       "      <td>2010</td>\n",
       "      <td>6981.400000</td>\n",
       "      <td>0.1331</td>\n",
       "      <td>3.55</td>\n",
       "      <td>3.05</td>\n",
       "      <td>0.063300</td>\n",
       "      <td>...</td>\n",
       "      <td>0.105</td>\n",
       "      <td>39.7</td>\n",
       "      <td>0.175800</td>\n",
       "      <td>0.115332</td>\n",
       "      <td>328.102753</td>\n",
       "      <td>7.0</td>\n",
       "      <td>2.828884</td>\n",
       "      <td>2.841106</td>\n",
       "      <td>0.387097</td>\n",
       "      <td>1.214624</td>\n",
       "    </tr>\n",
       "    <tr>\n",
       "      <th>3</th>\n",
       "      <td>200</td>\n",
       "      <td>0</td>\n",
       "      <td>2050</td>\n",
       "      <td>92.522255</td>\n",
       "      <td>2010</td>\n",
       "      <td>12111.400000</td>\n",
       "      <td>0.1726</td>\n",
       "      <td>3.38</td>\n",
       "      <td>2.86</td>\n",
       "      <td>0.058600</td>\n",
       "      <td>...</td>\n",
       "      <td>0.286</td>\n",
       "      <td>42.5</td>\n",
       "      <td>0.494700</td>\n",
       "      <td>0.148131</td>\n",
       "      <td>328.102753</td>\n",
       "      <td>11.2</td>\n",
       "      <td>2.828884</td>\n",
       "      <td>2.841106</td>\n",
       "      <td>0.407407</td>\n",
       "      <td>0.000000</td>\n",
       "    </tr>\n",
       "  </tbody>\n",
       "</table>\n",
       "<p>4 rows × 35 columns</p>\n",
       "</div>"
      ],
      "text/plain": [
       "   County  State  5-digit FIPS Code  2010 Prescribing Rate  Release Year  \\\n",
       "0      32      0               2013              92.522255          2010   \n",
       "1      33      0               2016              92.522255          2010   \n",
       "2      58      0               2020              75.100000          2010   \n",
       "3     200      0               2050              92.522255          2010   \n",
       "\n",
       "   Premature death raw value  Poor or fair health raw value  \\\n",
       "0                8407.271537                         0.1748   \n",
       "1                5270.500000                         0.2220   \n",
       "2                6981.400000                         0.1331   \n",
       "3               12111.400000                         0.1726   \n",
       "\n",
       "   Poor physical health days raw value  Poor mental health days raw value  \\\n",
       "0                                 3.35                               4.89   \n",
       "1                                 1.46                               1.81   \n",
       "2                                 3.55                               3.05   \n",
       "3                                 3.38                               2.86   \n",
       "\n",
       "   Low birthweight raw value               ...                \\\n",
       "0                   0.080278               ...                 \n",
       "1                   0.080278               ...                 \n",
       "2                   0.063300               ...                 \n",
       "3                   0.058600               ...                 \n",
       "\n",
       "   Children in poverty raw value  Income inequality raw value  \\\n",
       "0                          0.140                         41.9   \n",
       "1                          0.092                         34.6   \n",
       "2                          0.105                         39.7   \n",
       "3                          0.286                         42.5   \n",
       "\n",
       "   Inadequate social support raw value  Single-parent households raw value  \\\n",
       "0                             0.189622                            0.155894   \n",
       "1                             0.189622                            0.088976   \n",
       "2                             0.175800                            0.115332   \n",
       "3                             0.494700                            0.148131   \n",
       "\n",
       "   Violent crime raw value  Homicides raw value  \\\n",
       "0               328.102753                  0.0   \n",
       "1               328.102753                  5.4   \n",
       "2               328.102753                  7.0   \n",
       "3               328.102753                 11.2   \n",
       "\n",
       "   Air pollution-particulate matter days raw value  \\\n",
       "0                                         2.828884   \n",
       "1                                         2.828884   \n",
       "2                                         2.828884   \n",
       "3                                         2.828884   \n",
       "\n",
       "   Air pollution-ozone days raw value  Access to healthy foods raw value  \\\n",
       "0                            2.841106                           0.600000   \n",
       "1                            2.841106                           0.428571   \n",
       "2                            2.841106                           0.387097   \n",
       "3                            2.841106                           0.407407   \n",
       "\n",
       "   Liquor store density raw value  \n",
       "0                        0.000000  \n",
       "1                        2.050021  \n",
       "2                        1.214624  \n",
       "3                        0.000000  \n",
       "\n",
       "[4 rows x 35 columns]"
      ]
     },
     "execution_count": 445,
     "metadata": {},
     "output_type": "execute_result"
    }
   ],
   "source": [
    "frames = [mapped_df, transformed_num_df]\n",
    "transformed_df = pd.concat(frames, axis=1)\n",
    "transformed_df[:4]"
   ]
  },
  {
   "cell_type": "code",
   "execution_count": 432,
   "metadata": {},
   "outputs": [],
   "source": [
    "transformed_df.dtypes\n",
    "\n",
    "# County                                                int64\n",
    "# State                                                 int64\n",
    "# 5-digit FIPS Code                                     int64\n",
    "# 2010 Prescribing Rate                               float64\n",
    "# Release Year                                          int64\n",
    "# Premature death raw value                           float64"
   ]
  },
  {
   "cell_type": "markdown",
   "metadata": {},
   "source": [
    "### Set target value"
   ]
  },
  {
   "cell_type": "code",
   "execution_count": 446,
   "metadata": {},
   "outputs": [
    {
     "data": {
      "text/plain": [
       "(3143, 34)"
      ]
     },
     "execution_count": 446,
     "metadata": {},
     "output_type": "execute_result"
    }
   ],
   "source": [
    "X = transformed_df.drop(columns= ['2010 Prescribing Rate'])\n",
    "X.shape\n",
    "#(3143, 36)"
   ]
  },
  {
   "cell_type": "code",
   "execution_count": 447,
   "metadata": {},
   "outputs": [
    {
     "data": {
      "text/plain": [
       "(3143,)"
      ]
     },
     "execution_count": 447,
     "metadata": {},
     "output_type": "execute_result"
    }
   ],
   "source": [
    "y = transformed_df['2010 Prescribing Rate']\n",
    "y.shape\n",
    "#(3143,)"
   ]
  },
  {
   "cell_type": "markdown",
   "metadata": {},
   "source": [
    "### Split dataset"
   ]
  },
  {
   "cell_type": "code",
   "execution_count": 448,
   "metadata": {},
   "outputs": [],
   "source": [
    "from sklearn.model_selection import train_test_split\n",
    "\n",
    "X_train, X_test, y_train, y_test = train_test_split(X, y, shuffle = False, test_size = .3)\n",
    "\n",
    "X_validate, X_test, y_validate, y_test = train_test_split(X_test, y_test, shuffle = False, test_size = .5)"
   ]
  },
  {
   "cell_type": "code",
   "execution_count": 449,
   "metadata": {},
   "outputs": [
    {
     "data": {
      "text/plain": [
       "((2200, 34), (471, 34), (472, 34))"
      ]
     },
     "execution_count": 449,
     "metadata": {},
     "output_type": "execute_result"
    }
   ],
   "source": [
    "X_train.shape, X_validate.shape, X_test.shape\n",
    "#((2200, 35), (471, 35), (472, 35))"
   ]
  },
  {
   "cell_type": "markdown",
   "metadata": {},
   "source": [
    "### Train Linear Regression Model"
   ]
  },
  {
   "cell_type": "code",
   "execution_count": 450,
   "metadata": {},
   "outputs": [],
   "source": [
    "from sklearn.linear_model import LinearRegression"
   ]
  },
  {
   "cell_type": "code",
   "execution_count": 451,
   "metadata": {},
   "outputs": [],
   "source": [
    "model = LinearRegression()"
   ]
  },
  {
   "cell_type": "code",
   "execution_count": 454,
   "metadata": {},
   "outputs": [
    {
     "data": {
      "text/plain": [
       "0.3081824119548572"
      ]
     },
     "execution_count": 454,
     "metadata": {},
     "output_type": "execute_result"
    }
   ],
   "source": [
    "model.fit(X_train,y_train).score(X_train,y_train)"
   ]
  },
  {
   "cell_type": "code",
   "execution_count": 455,
   "metadata": {},
   "outputs": [
    {
     "data": {
      "text/plain": [
       "0.29304992614333325"
      ]
     },
     "execution_count": 455,
     "metadata": {},
     "output_type": "execute_result"
    }
   ],
   "source": [
    "model.score(X_validate,y_validate)"
   ]
  },
  {
   "cell_type": "markdown",
   "metadata": {},
   "source": [
    "### Permutation Importance"
   ]
  },
  {
   "cell_type": "code",
   "execution_count": 457,
   "metadata": {},
   "outputs": [],
   "source": [
    "from eli5.sklearn import PermutationImportance\n",
    "import eli5\n",
    "\n",
    "perm = PermutationImportance(model).fit(X_validate, y_validate)\n",
    "\n",
    "exp_df = eli5.explain_weights_df(perm, feature_names = list(X_train.columns))"
   ]
  },
  {
   "cell_type": "code",
   "execution_count": 462,
   "metadata": {},
   "outputs": [
    {
     "data": {
      "text/plain": [
       "<matplotlib.axes._subplots.AxesSubplot at 0x1e2a6030438>"
      ]
     },
     "execution_count": 462,
     "metadata": {},
     "output_type": "execute_result"
    },
    {
     "data": {
      "image/png": "[encoded data removed]",
      "text/plain": [
       "<Figure size 432x288 with 1 Axes>"
      ]
     },
     "metadata": {
      "needs_background": "light"
     },
     "output_type": "display_data"
    }
   ],
   "source": [
    "exp_df[:20].plot.barh(x = 'feature', y = 'weight')"
   ]
  },
  {
   "cell_type": "code",
   "execution_count": 463,
   "metadata": {},
   "outputs": [],
   "source": [
    "cols_20 = exp_df[:20]['feature'].values"
   ]
  },
  {
   "cell_type": "markdown",
   "metadata": {},
   "source": [
    "### Train Random Forest"
   ]
  },
  {
   "cell_type": "code",
   "execution_count": 464,
   "metadata": {},
   "outputs": [],
   "source": [
    "from sklearn.ensemble import RandomForestRegressor\n",
    "\n",
    "model = RandomForestRegressor(n_estimators = 50, n_jobs= -1).fit(X_train, y_train)"
   ]
  },
  {
   "cell_type": "code",
   "execution_count": 465,
   "metadata": {},
   "outputs": [
    {
     "data": {
      "text/plain": [
       "0.912051428132022"
      ]
     },
     "execution_count": 465,
     "metadata": {},
     "output_type": "execute_result"
    }
   ],
   "source": [
    "model.score(X_train, y_train)"
   ]
  },
  {
   "cell_type": "code",
   "execution_count": 466,
   "metadata": {},
   "outputs": [
    {
     "data": {
      "text/plain": [
       "0.3344068912910133"
      ]
     },
     "execution_count": 466,
     "metadata": {},
     "output_type": "execute_result"
    }
   ],
   "source": [
    "model.score(X_validate, y_validate)"
   ]
  },
  {
   "cell_type": "markdown",
   "metadata": {},
   "source": [
    "#### Random Forest with top 20"
   ]
  },
  {
   "cell_type": "code",
   "execution_count": 467,
   "metadata": {},
   "outputs": [],
   "source": [
    "model = RandomForestRegressor(n_estimators = 50, n_jobs= -1).fit(X_train[cols_20], y_train)"
   ]
  },
  {
   "cell_type": "code",
   "execution_count": 468,
   "metadata": {},
   "outputs": [
    {
     "data": {
      "text/plain": [
       "0.9118470265193301"
      ]
     },
     "execution_count": 468,
     "metadata": {},
     "output_type": "execute_result"
    }
   ],
   "source": [
    "model.score(X_train[cols_20], y_train)"
   ]
  },
  {
   "cell_type": "code",
   "execution_count": 469,
   "metadata": {},
   "outputs": [
    {
     "data": {
      "text/plain": [
       "0.32792289994777546"
      ]
     },
     "execution_count": 469,
     "metadata": {},
     "output_type": "execute_result"
    }
   ],
   "source": [
    "model.score(X_validate[cols_20], y_validate)"
   ]
  },
  {
   "cell_type": "code",
   "execution_count": null,
   "metadata": {},
   "outputs": [],
   "source": []
  }
 ],
 "metadata": {
  "kernelspec": {
   "display_name": "Python 3",
   "language": "python",
   "name": "python3"
  },
  "language_info": {
   "codemirror_mode": {
    "name": "ipython",
    "version": 3
   },
   "file_extension": ".py",
   "mimetype": "text/x-python",
   "name": "python",
   "nbconvert_exporter": "python",
   "pygments_lexer": "ipython3",
   "version": "3.6.7"
  }
 },
 "nbformat": 4,
 "nbformat_minor": 2
}
